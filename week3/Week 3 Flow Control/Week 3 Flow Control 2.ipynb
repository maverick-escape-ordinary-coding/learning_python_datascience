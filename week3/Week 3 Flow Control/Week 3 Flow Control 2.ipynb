{
 "cells": [
  {
   "cell_type": "markdown",
   "metadata": {},
   "source": [
    "# UFCFVQ-15-M Programming for Data Science \n",
    "# Week 3 Jupyter Notebook\n",
    "# Flow Control"
   ]
  },
  {
   "cell_type": "markdown",
   "metadata": {},
   "source": [
    "## Goals"
   ]
  },
  {
   "cell_type": "markdown",
   "metadata": {},
   "source": [
    "This week we will be looking at the different types of statements that can affect the flow of a Python application. As with previous weeks the majority of the code needed to progress is provided for you; however, there are coding tasks to complete by entering the code yourself.\n",
    "\n",
    "The topics in this notebook include:\n",
    "\n",
    "- Comparison and Logical Operators\n",
    "- Conditional statements\n",
    "- Different ways of looping"
   ]
  },
  {
   "cell_type": "markdown",
   "metadata": {},
   "source": [
    "## Debugging"
   ]
  },
  {
   "cell_type": "markdown",
   "metadata": {},
   "source": [
    "Through this notebook we will use `print()` statements to see the result of comparisons."
   ]
  },
  {
   "cell_type": "code",
   "execution_count": null,
   "metadata": {
    "scrolled": true
   },
   "outputs": [],
   "source": [
    "# As True is not equal to False this comparison prints False\n",
    "print(True == False)\n",
    "\n",
    "# As 7 is less than 9 this comparison prints True\n",
    "print(7 < 9)"
   ]
  },
  {
   "cell_type": "markdown",
   "metadata": {},
   "source": [
    "## Comparison Operators"
   ]
  },
  {
   "cell_type": "markdown",
   "metadata": {},
   "source": [
    "Comparison operators compare values and return either `True` or `False`, a Boolean (`bool`) value, depending on whether the condition is met.\n",
    "\n",
    "| Operator    | Description    | Example    |\n",
    "|:-----------:|:--------------|:----------:|\n",
    "| ==    | Returns true if both sides are **equal**.    | `1 == 1`    |\n",
    "| !=    | Returns true if both sides are **not equal**.    | `1 != 0`    |\n",
    "| >    | Returns true if left hand value is **greater than** the right.    | `6 > 5`    |\n",
    "| >=    | Returns true if the left hand value is **greater than or equal to** the right.    | `6 >= 6`    |\n",
    "| <    | Returns true if the left hand value is **less than** the right.    | `7 < 8`    |\n",
    "| <=    | Returns true if the left hand value is **greater than or equal to** the right.    | `7 <= 7`    |"
   ]
  },
  {
   "cell_type": "markdown",
   "metadata": {},
   "source": [
    "### <font color='red'><u>Worksheet Exercises</u></font>"
   ]
  },
  {
   "cell_type": "markdown",
   "metadata": {},
   "source": [
    "1. Take a look at the list of comparison statements below. \n",
    "\n",
    "* `\"A\" == \"a\"`\n",
    "* `2e-6 != 2e-7`\n",
    "* `3.14 > 0.31`\n",
    "* `0.39 >= 0.49`\n",
    "* `0.31 < 9.8`\n",
    "* `6 <= 7.2`\n",
    "\n",
    "Write down the what you think the result of the comparison will be, then check by typing the statement in a `print()` in the Python code block below. \n",
    "\n",
    "The first has been added for you."
   ]
  },
  {
   "cell_type": "code",
   "execution_count": null,
   "metadata": {},
   "outputs": [],
   "source": [
    "print(\"A\" == \"a\")\n",
    "\n",
    "# Add more python code below and execute the cell contents\n",
    "\n"
   ]
  },
  {
   "cell_type": "markdown",
   "metadata": {},
   "source": [
    "## Logical Operators"
   ]
  },
  {
   "cell_type": "markdown",
   "metadata": {},
   "source": [
    "Logical operators are used to combine boolean expressions together to create more complex conditions. We use logical operators every day, e.g. \"I will cross the road if there is no cars coming from the left and no cars coming from the right\". \n",
    "\n",
    "There are three logical operators in Python:\n",
    "\n",
    "\n",
    "\n",
    "| Operator    | Description    | Example    |\n",
    "|:-----------:|:--------------|:----------:|\n",
    "| not    | Returns `True` if the statement is *not* True    | `not (1 > 0)`    |\n",
    "| and    | Returns `True` if the the left *and* right side are both True    | `True and True`    |\n",
    "| or    | Returns `True` if either the left *or* right side are True    | `True or False`    |\n",
    "\n",
    "\n",
    "Our thought about whether to cross the road can be expressed using logical operators in Python."
   ]
  },
  {
   "cell_type": "code",
   "execution_count": null,
   "metadata": {},
   "outputs": [],
   "source": [
    "# run this code block and the output will display whether we should cross the road\n",
    "# you can change the value of cars_left and cars_right to see how this affects the decision\n",
    "\n",
    "cars_left = True\n",
    "cars_right = True\n",
    "\n",
    "print(\"Should I cross the road?\")\n",
    "print(not cars_left and not cars_right)"
   ]
  },
  {
   "cell_type": "markdown",
   "metadata": {},
   "source": [
    "### Truth Tables\n",
    "\n",
    "Truth tables are short tables that allow us to list the possible inputs and give the results of expressions. `and` and `or` have two possible inputs so will have four rows. `not` has one input and two possible outputs. \n",
    "\n",
    "We use `T` and `F` as shorthand for `True` and `False` respectively.\n",
    "\n",
    "Logical operators are also represented by symbols:\n",
    "\n",
    "| operator    | symbol    |\n",
    "|:-----------:|:--------------:|\n",
    "| `and`    | ^    |\n",
    "| `or`    | v    |\n",
    "| `not`   | ¬    |\n",
    "\n",
    "\n",
    "#### `and` Truth Table\n",
    "\n",
    "`and` returns `True` only if both operands are `True`. If either, or both, operands are `False` then it will return `False`. \n",
    "\n",
    "| a    | b    | a ^ b    |\n",
    "|:-----------:|:--------------:|:----------:|\n",
    "| F    | F    | F    |\n",
    "| F    | T    | F    |\n",
    "| T    | F    | F    |\n",
    "| T    | T    | T    |\n"
   ]
  },
  {
   "cell_type": "markdown",
   "metadata": {},
   "source": [
    "#### `or` Truth Table\n",
    "\n",
    "`or` returns `True` when one or both of the operands are `True`. If both of the operands are `False` then the expression will return `False`.\n",
    "\n",
    "| a    | b    | a v b    |\n",
    "|:-----------:|:--------------:|:----------:|\n",
    "| F    | F    | F    |\n",
    "| F    | T    | T    |\n",
    "| T    | F    | T    |\n",
    "| T    | T    | T    |\n"
   ]
  },
  {
   "cell_type": "markdown",
   "metadata": {},
   "source": [
    "#### `not` Truth Table\n",
    "\n",
    "`not` negates the operand.\n",
    "\n",
    "| a    | ¬ a    |\n",
    "|:-----------:|:--------------:|\n",
    "| F    | T    |\n",
    "| T    | F    |"
   ]
  },
  {
   "cell_type": "markdown",
   "metadata": {},
   "source": [
    "Using a truth table our crossing the road example would be expressed as:\n",
    "\n",
    "\n",
    "| cars_left    | cars_right    | ¬cars_right    | ¬cars_right    | (¬cars_left) ^ (¬cars_right)    |\n",
    "|:-----------:|:--------------:|:----------:|:----------:|:----------:|\n",
    "| F    | F    | T    |T    |T    |\n",
    "| F    | T    | T    |F    |F    |\n",
    "| T    | F    | F    |T    |F    |\n",
    "| T    | T    | F    |F    |F    |\n",
    "\n",
    "Which, using [De Morgan's Law](https://en.wikipedia.org/wiki/De_Morgan%27s_laws), we can also express as:\n",
    "\n",
    "| cars_left    | cars_right    | cars_left v cars_right   | ¬(cars_left v cars_right)    |\n",
    "|:-----------:|:--------------:|:----------:|:----------:|\n",
    "| F    | F    | F    |T    |\n",
    "| F    | T    | T    |F    |\n",
    "| T    | F    | T    |F    |\n",
    "| T    | T    | T    |F    |"
   ]
  },
  {
   "cell_type": "markdown",
   "metadata": {},
   "source": [
    "This is a very high level overview of truth tables and boolean algebra. Further reading can be found in the Week 3 Worksheet."
   ]
  },
  {
   "cell_type": "markdown",
   "metadata": {},
   "source": [
    "### Chaining conditions"
   ]
  },
  {
   "cell_type": "markdown",
   "metadata": {},
   "source": [
    "We can use logical operators to chain together conditions to form more complex expressions."
   ]
  },
  {
   "cell_type": "code",
   "execution_count": null,
   "metadata": {},
   "outputs": [],
   "source": [
    "# using 'and' to chain greater than and less than expressions\n",
    "\n",
    "x = 10\n",
    "\n",
    "if x > 0 and x < 20:\n",
    "    print(\"x is between 0 and 20\")"
   ]
  },
  {
   "cell_type": "code",
   "execution_count": null,
   "metadata": {},
   "outputs": [],
   "source": [
    "# using 'or' to chain two equal to expressions\n",
    "\n",
    "x = 'a'\n",
    "y = 'b'\n",
    "z = 'c'\n",
    "\n",
    "if x == y or z == 'c':\n",
    "    print(\"Either x is equal to y, or z is the letter 'c'\")"
   ]
  },
  {
   "cell_type": "markdown",
   "metadata": {},
   "source": [
    "### <font color='red'><u>Worksheet Exercises</u></font>"
   ]
  },
  {
   "cell_type": "markdown",
   "metadata": {},
   "source": [
    "Take a look at the next list of comparison statements below.\n",
    "\n",
    "1. Write out a single expression that tests that 7 is not equal to 9.\n",
    "2. Write out a single expression that tests that 'a' is equal to 'a'.\n",
    "3. Write out a single expression that tests that 10 is greater than 5 and 100 is greater than 50.\n",
    "4. Write out a single expression that tests that either 12 + 2 is greater than 12 or 4 is equal to 4.\n",
    "5. Write out a single expression that tests that 5 is between 2 and 8. "
   ]
  },
  {
   "cell_type": "code",
   "execution_count": null,
   "metadata": {},
   "outputs": [],
   "source": [
    "# enter your expressions below, remember you can use print to see the result\n"
   ]
  },
  {
   "cell_type": "markdown",
   "metadata": {},
   "source": [
    "## `input()` function"
   ]
  },
  {
   "cell_type": "markdown",
   "metadata": {},
   "source": [
    "In some of the examples below we will make use of the `input()` function to read a value from the input box.\n",
    "\n",
    "The examples will also use `str()` and `int()` functions to cast the variable to the correct type for the conditional checks to use."
   ]
  },
  {
   "cell_type": "code",
   "execution_count": null,
   "metadata": {},
   "outputs": [],
   "source": [
    "# run this code block and input a number\n",
    "\n",
    "aNumber = int(input(\"Enter a number and press enter: \"))\n",
    "\n",
    "print(\"You entered:\", aNumber)"
   ]
  },
  {
   "cell_type": "code",
   "execution_count": null,
   "metadata": {},
   "outputs": [],
   "source": [
    "# run this code block and input a number \n",
    "\n",
    "aLetter = str(input(\"Enter a letter and press enter: \"))\n",
    "\n",
    "print(\"You entered:\", aLetter)"
   ]
  },
  {
   "cell_type": "markdown",
   "metadata": {},
   "source": [
    "At this stage we are not validating the input from the user so try to enter the input requested by the example. \n",
    "\n",
    "Try entering a letter in the example below and see that it throws a `ValueError` because it was expecting a number."
   ]
  },
  {
   "cell_type": "code",
   "execution_count": null,
   "metadata": {},
   "outputs": [],
   "source": [
    "# run this code block and input a letter or string\n",
    "\n",
    "aNumber = int(input(\"Enter a number and press enter: \"))\n",
    "\n",
    "print(\"You entered:\", aNumber)"
   ]
  },
  {
   "cell_type": "markdown",
   "metadata": {},
   "source": [
    "You may also come across a `KeyboardInterrupt`  if you stop the cell while the input box is open."
   ]
  },
  {
   "cell_type": "code",
   "execution_count": null,
   "metadata": {},
   "outputs": [],
   "source": [
    "# run this code block and press the stop button before entering a value\n",
    "\n",
    "anInput = input(\"Enter nothing: \")"
   ]
  },
  {
   "cell_type": "markdown",
   "metadata": {},
   "source": [
    "### `input()` prompt"
   ]
  },
  {
   "cell_type": "markdown",
   "metadata": {},
   "source": [
    "You can change the prompt that is used by the `input()` function by modifying the string passed to it."
   ]
  },
  {
   "cell_type": "code",
   "execution_count": null,
   "metadata": {},
   "outputs": [],
   "source": [
    "# change the text between the \"\" to change the prompt\n",
    "\n",
    "x = input(\"Enter a value: \")"
   ]
  },
  {
   "cell_type": "code",
   "execution_count": null,
   "metadata": {},
   "outputs": [],
   "source": [
    "# write an input function below where the prompt is \"Enter a number and press enter: \"\n"
   ]
  },
  {
   "cell_type": "code",
   "execution_count": null,
   "metadata": {},
   "outputs": [],
   "source": [
    "# write an input function below where the prompt is \"Try again: \"\n"
   ]
  },
  {
   "cell_type": "markdown",
   "metadata": {},
   "source": [
    "# Whitespace is important"
   ]
  },
  {
   "cell_type": "markdown",
   "metadata": {},
   "source": [
    "As mentioned in the previous week's workbook whitespace is *very* important in Python. Other programming languages use `{` and `}` to scope code blocks, Python uses whitespace.\n",
    "\n",
    "The whitespace can be either a tab or spaces, as long as it is consistent through your code. \n",
    "\n",
    "Some editors will allow you to visualise the whitespace you've used. Typically this would be shown with the backtick character (\\`) representing whitespace, which would look like:\n",
    "\n",
    "```\n",
    "if x % 2 == 0:\n",
    "````print(\"Even\")\n",
    "else:\n",
    "````print(\"Odd\")\n",
    "```"
   ]
  },
  {
   "cell_type": "markdown",
   "metadata": {},
   "source": [
    "## Conditional Statements"
   ]
  },
  {
   "cell_type": "markdown",
   "metadata": {},
   "source": [
    "There are three types of conditional statements that we can use in a Python application to control the flow of execution: *if*, *if-else* and *if-elif-else*."
   ]
  },
  {
   "cell_type": "markdown",
   "metadata": {},
   "source": [
    "### `if` Statement"
   ]
  },
  {
   "cell_type": "markdown",
   "metadata": {},
   "source": [
    "`if` statements are a fundamental building block for creating programs with conditional execution. They follow this structure:\n",
    "\n",
    "```\n",
    "if <statement that evaluates to True/False>:\n",
    "    <code>\n",
    "```\n",
    "\n",
    "![if.png](img/if.png)\n",
    "\n",
    "\n",
    "The statement following the `if` keyword is evaluated to either `True` or `False`. If the condition is evaluated as `True` the indented code following it is executed."
   ]
  },
  {
   "cell_type": "code",
   "execution_count": null,
   "metadata": {},
   "outputs": [],
   "source": [
    "# run this code block. The code in the if statement is run because the statement evaluates to True\n",
    "\n",
    "x = 4\n",
    "\n",
    "if x < 5:\n",
    "    print(x, \"is less than 5\")"
   ]
  },
  {
   "cell_type": "markdown",
   "metadata": {},
   "source": [
    "### <font color='red'><u>Worksheet Exercises</u></font>"
   ]
  },
  {
   "cell_type": "markdown",
   "metadata": {},
   "source": [
    "1. Try inputting each of these numbers in turn in to the Python snippet below.\n",
    "\n",
    "* 50\n",
    "* 100\n",
    "* 150\n",
    "\n",
    "Looking at the `if` statements, what will the output be?"
   ]
  },
  {
   "cell_type": "code",
   "execution_count": null,
   "metadata": {},
   "outputs": [],
   "source": [
    "# run this code snippet and enter a number in the box below\n",
    "# when you want to enter a new number, run it again\n",
    "\n",
    "x = int(input(\"Enter a number: \"))\n",
    "\n",
    "maxNumber = 100\n",
    "\n",
    "if x < maxNumber:\n",
    "    print(x, \"is less than\", maxNumber)\n",
    "    \n",
    "if x > maxNumber:\n",
    "    print(x, \"is greater than\", maxNumber)"
   ]
  },
  {
   "cell_type": "markdown",
   "metadata": {},
   "source": [
    "### `else` statement"
   ]
  },
  {
   "cell_type": "markdown",
   "metadata": {},
   "source": [
    "`else` allows us to extend the functionality of the `if` statement by executing code in the `else` block when the `if` statement evaluates to `False`.\n",
    "\n",
    "![if-else.png](img/if-else.png)\n",
    "\n",
    "Our previous snippet used two `if` statements to check whether the number entered is less than or greater than 100. We can do that in a much neater way using an `else`."
   ]
  },
  {
   "cell_type": "code",
   "execution_count": null,
   "metadata": {},
   "outputs": [],
   "source": [
    "# run this code snippet and enter a number in the box below\n",
    "# when you want to enter a new number, run it again\n",
    "\n",
    "x = int(input(\"Enter a number: \"))\n",
    "maxNumber = 100\n",
    "\n",
    "if x < maxNumber:\n",
    "    print(x, \"is less than 100\")\n",
    "else:\n",
    "    print(x, \"is greater than 100\")"
   ]
  },
  {
   "cell_type": "markdown",
   "metadata": {},
   "source": [
    "### `elif` statement"
   ]
  },
  {
   "cell_type": "markdown",
   "metadata": {},
   "source": [
    "There is one more addition to the conditional family: `elif`. \n",
    "\n",
    "This lets us write multiple paths of execution depending on which condition evaluates to `True`. \n",
    "\n",
    "![if-elif.png](img/if-elif.png)\n",
    "\n",
    "You can also add an `else` clause that will execute if none of the `elif` statements evaluate to `True`\n",
    "\n",
    "![if-elif-else.png](img/if-elif-else.png)\n",
    "\n",
    "You'll notice that the small Python app we've been using to test whether a number is greater than 100 has an issue. What happens if you enter `100`? It prints nothing. Let's fix that!"
   ]
  },
  {
   "cell_type": "code",
   "execution_count": null,
   "metadata": {
    "scrolled": true
   },
   "outputs": [],
   "source": [
    "# run this code snippet and enter a number in the box below\n",
    "# when you want to enter a new number, run it again\n",
    "\n",
    "x = int(input(\"Enter a number: \"))\n",
    "maxNumber = 100\n",
    "\n",
    "if x < maxNumber:\n",
    "    print(x, \"is less than 100\")\n",
    "elif x == maxNumber:\n",
    "    print(x, \"is\", maxNumber)\n",
    "else:\n",
    "    print(x, \"is greater than 100\")"
   ]
  },
  {
   "cell_type": "markdown",
   "metadata": {},
   "source": [
    "### Nested `if` statements"
   ]
  },
  {
   "cell_type": "markdown",
   "metadata": {},
   "source": [
    "If we need to, we can nest `if` statements to further control the flow of an application."
   ]
  },
  {
   "cell_type": "code",
   "execution_count": null,
   "metadata": {},
   "outputs": [],
   "source": [
    "# nested if statements are further indented\n",
    "\n",
    "x = 100\n",
    "\n",
    "if x > 50:\n",
    "    if x > 75:\n",
    "        print(\"x is a large number\")"
   ]
  },
  {
   "cell_type": "code",
   "execution_count": null,
   "metadata": {},
   "outputs": [],
   "source": [
    "# we can also use elif or else clauses\n",
    "\n",
    "a = 101\n",
    "\n",
    "if a >= 0:\n",
    "    if a > 50:\n",
    "        if a > 100:\n",
    "            print(\"a is greater than 100\")\n",
    "        else:\n",
    "            print(\"a is smaller than 100\")\n",
    "    else:\n",
    "        print(\"a is smaller than 50\")\n",
    "else:\n",
    "    print(\"a is smaller than 0\")"
   ]
  },
  {
   "cell_type": "markdown",
   "metadata": {},
   "source": [
    "### <font color='red'><u>Worksheet Exercises</u></font>"
   ]
  },
  {
   "cell_type": "markdown",
   "metadata": {},
   "source": [
    "1. Write a single if statement that checks whether a number is between 16 and 35."
   ]
  },
  {
   "cell_type": "code",
   "execution_count": null,
   "metadata": {},
   "outputs": [],
   "source": [
    "# add your exercise 1 solution here\n"
   ]
  },
  {
   "cell_type": "markdown",
   "metadata": {},
   "source": [
    "2. Write a conditional statement that prints \"The letter is a vowel\" if the letter entered is a vowel, or \"The letter is a consonant\" if it isn't."
   ]
  },
  {
   "cell_type": "code",
   "execution_count": null,
   "metadata": {},
   "outputs": [],
   "source": [
    "character = str(input(\"Enter a single character: \"))\n",
    "\n",
    "# add more code below this comment to solve the exercise\n",
    "# the 'character' variable will contain the character you input\n",
    "\n",
    "\n"
   ]
  },
  {
   "cell_type": "markdown",
   "metadata": {},
   "source": [
    "3. Using nested conditional statements print the smallest of 3 numbers (a, b, and c) entered by the user."
   ]
  },
  {
   "cell_type": "code",
   "execution_count": null,
   "metadata": {},
   "outputs": [],
   "source": [
    "# this will read in 3 numbers and store the value in a, b, and c respectively\n",
    "a = int(input(\"Enter the first number: \"))\n",
    "b = int(input(\"Enter the second number: \"))\n",
    "c = int(input(\"Enter the third number: \"))\n",
    "\n",
    "# enter your code below to print the smallest number out of a, b, and c\n"
   ]
  },
  {
   "cell_type": "markdown",
   "metadata": {},
   "source": [
    "# Looping"
   ]
  },
  {
   "cell_type": "markdown",
   "metadata": {},
   "source": [
    "## `while`"
   ]
  },
  {
   "cell_type": "markdown",
   "metadata": {},
   "source": [
    "If you've used any programming language you'll more than likely have come across a `while` loop. `while` loops allow us to repeat code until one or more conditions are met.\n",
    "\n",
    "![while.png](img/while.png)\n",
    "\n",
    "The format for a while loop is:\n",
    "\n",
    "```\n",
    "while <condition>:\n",
    "    <code>\n",
    "```\n",
    "\n",
    "**Note**: as with `if` statements the code to be run each iteration must be indented.\n",
    "\n",
    "The code contained in the while block will continue to execute until the condition is False."
   ]
  },
  {
   "cell_type": "code",
   "execution_count": null,
   "metadata": {},
   "outputs": [],
   "source": [
    "# loop a specific number of times\n",
    "x = 0\n",
    "\n",
    "while x < 10:\n",
    "    print(x)\n",
    "    x += 1"
   ]
  },
  {
   "cell_type": "code",
   "execution_count": null,
   "metadata": {},
   "outputs": [],
   "source": [
    "# loop until the user exits with -1\n",
    "\n",
    "x = int(input(\"Enter a number: \"))\n",
    "total_number_entered = 0\n",
    "\n",
    "while x != -1:\n",
    "    print(\"You entered\", x)\n",
    "    total_number_entered += 1\n",
    "    x = int(input(\"Enter another number or -1 to quit\"))\n",
    "\n",
    "print(\"You entered\", total_number_entered, \"numbers\")"
   ]
  },
  {
   "cell_type": "markdown",
   "metadata": {},
   "source": [
    "### Infinite loop"
   ]
  },
  {
   "cell_type": "markdown",
   "metadata": {},
   "source": [
    "Sometimes it is necessary to have a loop run forever. This can be achieved using a `while` where the condition always evaluates to `True`.\n",
    "\n",
    "<b><font color=\"red\">* To stop the code block below you will need to use the stop button *</font></b>"
   ]
  },
  {
   "cell_type": "code",
   "execution_count": null,
   "metadata": {},
   "outputs": [],
   "source": [
    "while True:\n",
    "    print(\"This will run forever.\")\n",
    "    "
   ]
  },
  {
   "cell_type": "markdown",
   "metadata": {},
   "source": [
    "### <font color='red'><u>Worksheet Exercises</u></font>"
   ]
  },
  {
   "cell_type": "markdown",
   "metadata": {},
   "source": [
    "1. Write a while loop that prints the word \"Data\" 3 times."
   ]
  },
  {
   "cell_type": "code",
   "execution_count": null,
   "metadata": {},
   "outputs": [],
   "source": [
    "# write your program below\n"
   ]
  },
  {
   "cell_type": "markdown",
   "metadata": {},
   "source": [
    "2. Write a while loop that adds the numbers 1 to 10 and prints the result."
   ]
  },
  {
   "cell_type": "code",
   "execution_count": null,
   "metadata": {},
   "outputs": [],
   "source": [
    "# write your program below\n"
   ]
  },
  {
   "cell_type": "markdown",
   "metadata": {},
   "source": [
    "## `for`"
   ]
  },
  {
   "cell_type": "markdown",
   "metadata": {},
   "source": [
    "Objects in Python can be iterable `iterable`. This means that we can use a `for` loop to run a piece of code for each element in an object. For example: each item in a list, each character in a string, or each pair in a dictionary."
   ]
  },
  {
   "cell_type": "markdown",
   "metadata": {},
   "source": [
    "![for.png](img/for.png)"
   ]
  },
  {
   "cell_type": "markdown",
   "metadata": {},
   "source": [
    "```\n",
    "for <x> in <Iterable>:\n",
    "    <code>\n",
    "```"
   ]
  },
  {
   "cell_type": "markdown",
   "metadata": {},
   "source": [
    "To loop through a list of numbers we can use the `range()` function. We can pass the range function a start, stop, and step parameter."
   ]
  },
  {
   "cell_type": "code",
   "execution_count": null,
   "metadata": {},
   "outputs": [],
   "source": [
    "# a sequence of 0 to 9 with just the stop number passed in to range()\n",
    "\n",
    "for i in range(10):\n",
    "    print(i)"
   ]
  },
  {
   "cell_type": "code",
   "execution_count": null,
   "metadata": {},
   "outputs": [],
   "source": [
    "# a sequence of 15 to 24 with the start and stop number passed in to range()\n",
    "\n",
    "for i in range(15, 25):\n",
    "    print(i)"
   ]
  },
  {
   "cell_type": "code",
   "execution_count": null,
   "metadata": {},
   "outputs": [],
   "source": [
    "# a sequence of 1 to 9 with a step size of 2, with the start, stop and step size passed in to range()\n",
    "\n",
    "for i in range(1, 10, 2):\n",
    "    print(i)"
   ]
  },
  {
   "cell_type": "markdown",
   "metadata": {},
   "source": [
    "Below are some other examples of iterable objects you will come across."
   ]
  },
  {
   "cell_type": "code",
   "execution_count": null,
   "metadata": {},
   "outputs": [],
   "source": [
    "# iterate through a list\n",
    "\n",
    "letters = ['a', 'b', 'c', 'd', 'e']\n",
    "\n",
    "for letter in letters:\n",
    "    print(letter)"
   ]
  },
  {
   "cell_type": "code",
   "execution_count": null,
   "metadata": {
    "scrolled": false
   },
   "outputs": [],
   "source": [
    "# iterate through a tuple\n",
    "\n",
    "for fruit in ('bananas', 'orange', 'pear'):\n",
    "    print(fruit)"
   ]
  },
  {
   "cell_type": "code",
   "execution_count": null,
   "metadata": {},
   "outputs": [],
   "source": [
    "# iterate through a dictionary\n",
    "\n",
    "translation = { \n",
    "    \"hello\": \"bonjour\",\n",
    "    \"what is your name?\": \"comment tu t'appelles?\" \n",
    "}\n",
    "\n",
    "for (key, value) in translation.items():\n",
    "    print(\"key:\", key,\", value:\", value)"
   ]
  },
  {
   "cell_type": "markdown",
   "metadata": {},
   "source": [
    "This is by no means an exhaustive list, there are more advanced data structures that can be iterable that we will explore in later weeks."
   ]
  },
  {
   "cell_type": "markdown",
   "metadata": {},
   "source": [
    "### `for` `else`"
   ]
  },
  {
   "cell_type": "markdown",
   "metadata": {},
   "source": [
    "`for` loops can also have an `else` clause. The code in the `else` block will execute when the `for` loop completes successfully, i.e. doesn't encounter a `break` statement."
   ]
  },
  {
   "cell_type": "code",
   "execution_count": null,
   "metadata": {
    "scrolled": true
   },
   "outputs": [],
   "source": [
    "# this will print the numbers in the range and then \"Complete!\"\n",
    "\n",
    "for i in range(0, 3):\n",
    "    print(i)\n",
    "else:\n",
    "    print(\"Complete!\")"
   ]
  },
  {
   "cell_type": "code",
   "execution_count": null,
   "metadata": {},
   "outputs": [],
   "source": [
    "# this will *not* print \"Complete!\"\n",
    "\n",
    "for i in range(0, 3):\n",
    "    break\n",
    "else:\n",
    "    print(\"Complete!\")"
   ]
  },
  {
   "cell_type": "markdown",
   "metadata": {},
   "source": [
    "### Skipping and breaking out of loops"
   ]
  },
  {
   "cell_type": "markdown",
   "metadata": {},
   "source": [
    "There are occasions where we'll want to skip executing the code within a loop if a certain condition is met. We have two means of achieving this: the `break` and `continue` statements.\n",
    "\n",
    "- `break` allows us to break out of the loop prematurely.\n",
    "- `continue` allows us to skip the current iteration and continue to the next"
   ]
  },
  {
   "cell_type": "code",
   "execution_count": null,
   "metadata": {},
   "outputs": [],
   "source": [
    "# skip the current iteration if i is an even number\n",
    "\n",
    "for i in range(0, 10):\n",
    "    if i % 2  == 0:\n",
    "        continue\n",
    "        \n",
    "    print(i)"
   ]
  },
  {
   "cell_type": "code",
   "execution_count": null,
   "metadata": {},
   "outputs": [],
   "source": [
    "# this will break out of the infinite loop when x is > 10\n",
    "\n",
    "x = 0\n",
    "\n",
    "while True:\n",
    "    if x > 10:\n",
    "        break;\n",
    "        \n",
    "    print(x)\n",
    "    x += 1"
   ]
  },
  {
   "cell_type": "markdown",
   "metadata": {},
   "source": [
    "### <font color='red'><u>Worksheet Exercises</u></font>"
   ]
  },
  {
   "cell_type": "markdown",
   "metadata": {},
   "source": [
    "1. Write program that uses a `for` loop to add the numbers 1 to 10."
   ]
  },
  {
   "cell_type": "code",
   "execution_count": null,
   "metadata": {},
   "outputs": [],
   "source": [
    "# write your program below\n"
   ]
  },
  {
   "cell_type": "markdown",
   "metadata": {},
   "source": [
    "2. Write a program that uses a `for` loop to iterate through the list given (`numbers`) and prints only the odd numbers.\n",
    "\n",
    "**Tip**: To test for an odd number you can use `<variable> % 2 == 1`."
   ]
  },
  {
   "cell_type": "code",
   "execution_count": null,
   "metadata": {},
   "outputs": [],
   "source": [
    "numbers = [2, 3, 89, 42, 44, 1001]\n",
    "\n",
    "# write your program below\n"
   ]
  },
  {
   "cell_type": "markdown",
   "metadata": {},
   "source": [
    "# <font color='red'><u>Worksheet Exercises</u></font>"
   ]
  },
  {
   "cell_type": "markdown",
   "metadata": {},
   "source": [
    "## Number Guessing Game"
   ]
  },
  {
   "cell_type": "markdown",
   "metadata": {},
   "source": [
    "Let's improve the number checking we used in the previous examples to write a number guessing game.\n",
    "\n",
    "### 1. Generating a random number\n",
    "\n",
    "To generate a random number you can use:\n",
    "\n",
    "```\n",
    "import random\n",
    "\n",
    "myRandomNumber = random.randint(1, 100)\n",
    "```\n",
    "\n",
    "This will generate a number between 1 and 100.\n",
    "\n",
    "Note the need to import the `random` module."
   ]
  },
  {
   "cell_type": "code",
   "execution_count": null,
   "metadata": {},
   "outputs": [],
   "source": [
    "# copy the code to generate a random number and then print the number it generates\n"
   ]
  },
  {
   "cell_type": "markdown",
   "metadata": {},
   "source": [
    "### 2. Reading user input\n",
    "\n",
    "As with other examples we can use the `input()` function to read in a value:\n",
    "\n",
    "```\n",
    "guess = int(input(\"Guess the number: \"))\n",
    "```\n",
    "\n",
    "The string passed to the input function is the prompt Python will print. The example above will print `Guess the number: ` as the prompt."
   ]
  },
  {
   "cell_type": "code",
   "execution_count": null,
   "metadata": {},
   "outputs": [],
   "source": [
    "# copy the code to read in a value and print the number entered\n"
   ]
  },
  {
   "cell_type": "code",
   "execution_count": null,
   "metadata": {},
   "outputs": [],
   "source": [
    "# copy the code and modify the prompt to say \"Try again: \"\n"
   ]
  },
  {
   "cell_type": "markdown",
   "metadata": {},
   "source": [
    "### 3. Guessing the random number\n",
    "\n",
    "For the first iteration of our number guessing game we want the following functionality:\n",
    "\n",
    "* a number between 1 and 100 should be randomly generated\n",
    "* print the welcome message\n",
    "* until the user guesses the number the program should:\n",
    "    * read in a number from the user\n",
    "    * check whether the guess is the correct number\n",
    "    * exit if correct and tell the user\n",
    "    \n",
    "Expected output:\n",
    "\n",
    "```\n",
    "Try and guess the number between 1 and 100!\n",
    "Enter a number between 1 and 100: 6\n",
    "That's not the number, guess again: 10\n",
    "That's not the number, guess again: 56\n",
    "That's not the number, guess again: 47\n",
    "Yes! You got it, the number was 47.\n",
    "```"
   ]
  },
  {
   "cell_type": "code",
   "execution_count": null,
   "metadata": {},
   "outputs": [],
   "source": [
    "# implement the first iteration of the number guessing game here\n"
   ]
  },
  {
   "cell_type": "markdown",
   "metadata": {},
   "source": [
    "### 4. Providing feedback to the user\n",
    "\n",
    "Next, we want to provide more feedback to the user. We should tell them whether the number to guess is **greater than** or **less than** the number they have entered."
   ]
  },
  {
   "cell_type": "code",
   "execution_count": null,
   "metadata": {},
   "outputs": [],
   "source": [
    "# copy the program from the previous block and update it fulfill the new requirement\n"
   ]
  },
  {
   "cell_type": "markdown",
   "metadata": {},
   "source": [
    "### 5. Limiting the number of guesses\n",
    "\n",
    "Finally, now the number is easier to guess, we want to limit the user to 10 guesses before exiting the program.\n",
    "\n",
    "The program should keep a count of the number of guess that have been made and use that to decide whether to allow the user another guess or to exit."
   ]
  },
  {
   "cell_type": "code",
   "execution_count": null,
   "metadata": {},
   "outputs": [],
   "source": [
    "# copy the program from the previous block and update it fulfill the new requirement\n"
   ]
  },
  {
   "cell_type": "markdown",
   "metadata": {},
   "source": [
    "## Fibonnaci Sequence Generator"
   ]
  },
  {
   "cell_type": "markdown",
   "metadata": {},
   "source": [
    "The fibonnaci sequence is a series of numbers found by adding the previous two numbers before it, starting with `0` and `1`, e.g:\n",
    "\n",
    "`0, 1, 1, 2, 3, 5, 8`\n",
    "\n",
    "`0 + 1 = 1`\n",
    "\n",
    "`1 + 1 = 2`\n",
    "\n",
    "`1 + 2 = 3`\n",
    "\n",
    "`2 + 3 = 5`\n",
    "\n",
    "`3 + 5 = 8`\n",
    "\n",
    "... and so on such that:\n",
    "\n",
    "$F _{n} = F _{n-2} + F _{n-1}$"
   ]
  },
  {
   "cell_type": "markdown",
   "metadata": {},
   "source": [
    "1. Write a program that calculates and prints the first 10 fibonnaci numbers.\n",
    "\n",
    "Expected output:\n",
    "\n",
    "```\n",
    "0\n",
    "1\n",
    "1\n",
    "2\n",
    "3\n",
    "5\n",
    "8\n",
    "13\n",
    "21\n",
    "34\n",
    "```"
   ]
  },
  {
   "cell_type": "code",
   "execution_count": null,
   "metadata": {},
   "outputs": [],
   "source": [
    "# write your program here\n"
   ]
  },
  {
   "cell_type": "markdown",
   "metadata": {},
   "source": [
    "2. Update your program so that it reads in a number $x$ and calculates $x$ fibonnaci numbers\n",
    "\n",
    "Expected output:\n",
    "\n",
    "```\n",
    "Please enter the number of fibonnaci numbers to calculate: 12\n",
    "\n",
    "0\n",
    "1\n",
    "1\n",
    "2\n",
    "3\n",
    "5\n",
    "8\n",
    "13\n",
    "21\n",
    "34\n",
    "55\n",
    "89\n",
    "\n",
    "```"
   ]
  },
  {
   "cell_type": "code",
   "execution_count": null,
   "metadata": {},
   "outputs": [],
   "source": [
    "# write your program here\n"
   ]
  },
  {
   "cell_type": "markdown",
   "metadata": {},
   "source": [
    "## Triangles"
   ]
  },
  {
   "cell_type": "markdown",
   "metadata": {},
   "source": [
    "1. Write a program that given the integer length of x, y, and z prints whether a triangle is scalene, isosceles, or equilateral.\n",
    "\n",
    "**Tip**: \n",
    "\n",
    "- Scalene triangles have no equal edges\n",
    "- Isoceles triangles have two equal edges\n",
    "- Equilateral triangles have three equal edges"
   ]
  },
  {
   "cell_type": "code",
   "execution_count": null,
   "metadata": {},
   "outputs": [],
   "source": [
    "x = int(input(\"Length of side x: \"))\n",
    "y = int(input(\"Length of side y: \"))\n",
    "z = int(input(\"Length of side z: \"))\n",
    "\n",
    "# complete this program below using x, y, and z\n"
   ]
  },
  {
   "cell_type": "markdown",
   "metadata": {},
   "source": [
    "2. Write a program that generates the following pattern triangle pattern using asterisk (\\*) and whitespace.\n",
    "\n",
    "```\n",
    "   * \n",
    "  * * \n",
    " * * * \n",
    "```"
   ]
  },
  {
   "cell_type": "code",
   "execution_count": null,
   "metadata": {},
   "outputs": [],
   "source": [
    "# write your program here\n"
   ]
  },
  {
   "cell_type": "markdown",
   "metadata": {},
   "source": [
    "## Quasi-logarithmic Timebase for Stopped-Flow Data Acquisition"
   ]
  },
  {
   "cell_type": "markdown",
   "metadata": {},
   "source": [
    "The following equation can be used to generate a list of timestamps at which to sample an A/D to provide a quasi-logarithmic timebase over 3 decades. This allowed the researchers to capture multi-phase chemical reactions: beginning very quickly in the milliseconds and then slowing over seconds and minutes.\n",
    "\n",
    "$Ti=Tt\\frac {10 ^ {\\frac {3i}{n}}-1}{10 ^ {3}}$\n",
    "\n",
    "where:\n",
    "\n",
    "* $Ti$ is the resulting timestamp\n",
    "* $Tt$ is the total runtime to acquire data for in seconds\n",
    "* $i$ is the current sample number\n",
    "* $n$ is the total number of samples\n",
    "\n",
    "For example, 10 samples over a runtime of 10 seconds (to 2 d.p.) will generate:\n",
    "\n",
    "\n",
    "```\n",
    "0.01\n",
    "0.03\n",
    "0.07\n",
    "0.15\n",
    "0.31\n",
    "0.62\n",
    "1.25\n",
    "2.5\n",
    "5.0\n",
    "9.99\n",
    "```\n",
    "\n",
    "1. Using your knowledge from the previous week on representing equations in Python, the math library, and this week's on looping, implement the formula such that the program prints the timestamps for 20 samples ($n$) over a runtime ($Tt$) of 1 second.\n",
    "\n",
    "**Note:** This program will require either the use of the `pow` function from the `math` library or the `**` operator."
   ]
  },
  {
   "cell_type": "code",
   "execution_count": null,
   "metadata": {},
   "outputs": [],
   "source": [
    "# using the information above, write a program to generate a list of timestamps for 20 \n",
    "# samples over a runtime of 1 second\n"
   ]
  },
  {
   "cell_type": "markdown",
   "metadata": {},
   "source": [
    "2. Now modify the program so that the number of samples and runtime can be entered by the user."
   ]
  },
  {
   "cell_type": "code",
   "execution_count": null,
   "metadata": {},
   "outputs": [],
   "source": [
    "# write your code here\n"
   ]
  },
  {
   "cell_type": "markdown",
   "metadata": {},
   "source": [
    "In later weeks will will build on this exercise using graphing libraries to build a plot."
   ]
  }
 ],
 "metadata": {
  "kernelspec": {
   "display_name": "Python 3",
   "language": "python",
   "name": "python3"
  },
  "language_info": {
   "codemirror_mode": {
    "name": "ipython",
    "version": 3
   },
   "file_extension": ".py",
   "mimetype": "text/x-python",
   "name": "python",
   "nbconvert_exporter": "python",
   "pygments_lexer": "ipython3",
   "version": "3.8.5"
  }
 },
 "nbformat": 4,
 "nbformat_minor": 5
}
