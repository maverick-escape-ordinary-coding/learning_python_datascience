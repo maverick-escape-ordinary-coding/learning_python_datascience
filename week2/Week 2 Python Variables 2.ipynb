{
 "cells": [
  {
   "cell_type": "markdown",
   "metadata": {},
   "source": [
    "# UFCFVQ-15-M Programming for Data Science\n",
    "# Week 2 Jupyter Notebook \n",
    "# Python Variables and Data Types\n",
    "\n",
    "\n",
    "## Goals\n",
    "This notebook has been created to familiarise you with Python Variables and Data Types. Most of the code needed to progress through this Notebook has been provided for you. However, there are several coding tasks that you will need to complete yourself by entering code yourself.\n",
    "\n",
    "The topics in this notebook include:\n",
    "* Basic programming features in Python: variables, data types and values\n",
    "* Translating formulas from math notation to Python.\n",
    "* Declaring strings and manipulating them\n",
    "* Creating mathematical expressions in Python"
   ]
  },
  {
   "cell_type": "markdown",
   "metadata": {},
   "source": [
    "## Variables\n",
    "Variables are containers for storing data values. They are created by assigning a value to them using the assignment operator `=`. In Python, you do not need to explictly define what data-type a variable uses unlike other languages such as Java or C++. Python will implicitly decide this out by looking at the type of value that is being assigned. So if you are assigning an integer value the variable is an integer or if you assign a string the variable is a string. Later in this Notebook, we will look at the different kinds of data we can store in a variable, known as its data type."
   ]
  },
  {
   "cell_type": "code",
   "execution_count": null,
   "metadata": {},
   "outputs": [],
   "source": [
    "x = 2     # integer assignment\n",
    "y = 5     # integer assignment\n",
    "xy = 'Hey'   # string assignment"
   ]
  },
  {
   "cell_type": "markdown",
   "metadata": {},
   "source": [
    "In fact, a Python variable's type can change during its lifetime by assigning a value of a different data type. However, you should avoid doing this as it can be confusing to anyone else reading your source code."
   ]
  },
  {
   "cell_type": "code",
   "execution_count": null,
   "metadata": {},
   "outputs": [],
   "source": [
    "x = 1\n",
    "print('The value of x is', x)\n",
    "\n",
    "x = 2.5\n",
    "print('Now the value of x is', x)\n",
    "\n",
    "x = 'hello there'\n",
    "print('Now it is ', x)"
   ]
  },
  {
   "cell_type": "markdown",
   "metadata": {},
   "source": [
    "Multiple variables can be assigned with the same value."
   ]
  },
  {
   "cell_type": "code",
   "execution_count": null,
   "metadata": {},
   "outputs": [],
   "source": [
    "x = y = 1"
   ]
  },
  {
   "cell_type": "code",
   "execution_count": null,
   "metadata": {},
   "outputs": [],
   "source": [
    "print (x,y)"
   ]
  },
  {
   "cell_type": "markdown",
   "metadata": {},
   "source": [
    "### Variable Scope\n",
    "Normally, you would execute cells in the order they are included in the Notebook. However, please be aware that it is the order of execution of cells that is important in a Jupyter Notebook, not necessarily the order in which they appear. Python will remember all the code that was run previously, including any variables you have defined, irrespective of the order in the Notebook. Therefore if you define variables lower down the Notebook and then (re)run cells further up, those defined further down will still be present. Variables persist between cells as you have already no doubt experienced. This is one of the most useful facilities within the Jupyter system. It allows you to break down complex data science investigations into smaller units of work.\n",
    "\n",
    "To show how this works try to execute the first of the following code cells. You should see an error showing that the variable `message` does not exist. Now execute the second code cell. Try executing the first code cell again. This time the variable `message` is defined."
   ]
  },
  {
   "cell_type": "code",
   "execution_count": null,
   "metadata": {},
   "outputs": [],
   "source": [
    "print(message)"
   ]
  },
  {
   "cell_type": "code",
   "execution_count": null,
   "metadata": {},
   "outputs": [],
   "source": [
    "message=\"Hello World!\""
   ]
  },
  {
   "cell_type": "markdown",
   "metadata": {},
   "source": [
    "### Variables Names\n",
    "A variable can have a short name (like x and y) or a more descriptive name (age, carname, total_volume). Rules for Python variables:\n",
    "* A variable name must start with a letter or the underscore character\n",
    "* A variable name cannot start with a number\n",
    "* A variable name can only contain alpha-numeric characters and underscores (A-z, 0-9, and _ )\n",
    "* Variable names are case-sensitive (age, Age and AGE are three different variables)\n",
    "\n",
    "Variable names with more than one word can be difficult to read. There are a couple of common technique for making these kinds of variable more readable:\n",
    "#### Camel Case\n",
    "Each word, except the first, starts with a capital letter.\n",
    "#### Snake Case\n",
    "Each word is separated by an underscrore character _"
   ]
  },
  {
   "cell_type": "code",
   "execution_count": null,
   "metadata": {},
   "outputs": [],
   "source": [
    "# camelCase\n",
    "myFirstName=\"Dave\"\n",
    "\n",
    "# snake_case\n",
    "my_first_name = \"Dave\""
   ]
  },
  {
   "cell_type": "markdown",
   "metadata": {},
   "source": [
    "However, there are words that we should not use as variable names because these words already have special meaning in Python.\n",
    "\n",
    "##### Reserved Words\n",
    "Python will raise an error if you try to assign a value to any of these keywords and so you <strong>must</strong> avoid these as variable names.\n",
    "\n",
    "|  |  |  |  |  |  |  |  |  |\n",
    "|---|---|---|---|---|---|---|---|---|\n",
    "| False | class | finally | is | return | None | continue | for | lambda |\n",
    "| True | def | from | nonlocal | while | and | del | global | not |\n",
    "| as | elif | if | or | yield | assert | else | import | pass |\n",
    "| except | in | raise | try | with | break |  |  |  |  |\n",
    "\n",
    "##### Built-in Function Names\n",
    "There are several functions which are included in the standard Python library. Do not use the names of these functions as variable names otherwise the reference to the built-in function will be lost. For example, do not use `sum()`, `min()`, `max()`, `list()` or `sorted()` as a variable name. See the full list of <a href=\"https://docs.python.org/3/library/functions.html\" target=\"_blank\">built-in functions</a>."
   ]
  },
  {
   "cell_type": "markdown",
   "metadata": {},
   "source": [
    "### <font color='red'><u>Worksheet Exercises</u></font>\n",
    "1. Create a variable named `carname` and assign the string value `\"Volvo\"` to it\n",
    "2. Create a variable named `x` and assign the value `50` to it\n",
    "3. Print the sum of 5 + 10, using two variables: `x` and `y`\n",
    "4. Create a variable called `z`, assign `x + y` to it, and print the result.\n",
    "5. Remove the illegal characters in the variable name: `2my-first_name = \"John\"`\n",
    "6. Assign the same value `\"Orange\"` to three variables (`x`, `y` and `z`) in one line of code.\n",
    "7. Choose a descriptive variable name for each of the following and give an example initial value:\n",
    "    * the total revenue for in a given year\n",
    "    * the average house price in a given district\n",
    "    * the number of characters in a text file\n",
    "    * the manufacturer of a given car"
   ]
  },
  {
   "cell_type": "code",
   "execution_count": null,
   "metadata": {},
   "outputs": [],
   "source": [
    "# add your exercise solutions here"
   ]
  },
  {
   "cell_type": "markdown",
   "metadata": {},
   "source": [
    "### Special Jupyter Commands\n",
    "Jupyter Notebook has several special commands called magic commands. There is no need for you to learn all of these commands but the following command is quite useful to use when editing and exectuing multiple code cells in Notebook: `%whos`. This command will print the variable name, type and data of all active variables. Additional information may be printed for other data structures such as lists, tuples, sets and dictionaries."
   ]
  },
  {
   "cell_type": "code",
   "execution_count": null,
   "metadata": {},
   "outputs": [],
   "source": [
    "%whos"
   ]
  },
  {
   "cell_type": "markdown",
   "metadata": {},
   "source": [
    "### A note on the print() function\n",
    "The `print()` function prints the specified message to the screen, or other standard output device. The message can be a string, or any other object, the object will be converted into a string before written to the screen. The values passed to the function are called arguments. These arguments must be separated by a `,`. The print function will automatically display all arguments on the same line with a single space between them. Finally, the print function adds a new line to the end."
   ]
  },
  {
   "cell_type": "code",
   "execution_count": null,
   "metadata": {},
   "outputs": [],
   "source": [
    "name=\"Dave\"\n",
    "age=42\n",
    "print(name,\"is\",age,\"years old\") # create a string with inserted variable values"
   ]
  },
  {
   "cell_type": "markdown",
   "metadata": {},
   "source": [
    "The syntax for this function is as follows:\n",
    "\n",
    "| <div align=\"center\">Parameter</div> | <div align=\"center\">Description</div> |\n",
    "|----|---|\n",
    "| <div align=\"center\">object(s)</div>  | <div align=\"center\">Any object, and as many as you like</div> |\n",
    "| <div align=\"center\">sep='separator'  | <div align=\"center\">Optional. Specify how to separate multiple objects. ' ' is default.</div> |\n",
    "| <div align=\"center\">end='end'</div>  | <div align=\"center\">Optional. Specify what to print at the end</div> |"
   ]
  },
  {
   "cell_type": "code",
   "execution_count": null,
   "metadata": {},
   "outputs": [],
   "source": [
    "anInt = 10\n",
    "aFloat = 3.14\n",
    "aString = \"Hello\"\n",
    "print(anInt,aFloat,aString,sep=',') # print three objects separated by a ,"
   ]
  },
  {
   "cell_type": "markdown",
   "metadata": {},
   "source": [
    "### <font color='red'><u>Worksheet Exercises</u></font>\n",
    "1. Create three integer variables, `x`, `y` and `z` with values `1`, `2` and `3` respectively. Print all three variables on the same line\n",
    "2. Now, print the same three variables as above, but this time separated by `***` instead of a space\n",
    "3. Finally, print the same three variables as above, but this time terminate the string with an `!` exclamation mark"
   ]
  },
  {
   "cell_type": "code",
   "execution_count": null,
   "metadata": {},
   "outputs": [],
   "source": [
    "# add your exercise solutions here"
   ]
  },
  {
   "cell_type": "markdown",
   "metadata": {},
   "source": [
    "## Data Types\n",
    "Values in Python have an associated data type. Different types can do different things. Python has 13 built-in data types:\n",
    "\n",
    "| <div align=\"center\">Category</div> | <div align=\"center\">Data Type</div> |\n",
    "|---|---|\n",
    "| <div align=\"center\">Textual</div> | <div align=\"center\">str</div> |\n",
    "| <div align=\"center\">Numeric</div> | <div align=\"center\">int, float, complex</div> |\n",
    "| <div align=\"center\">Sequence</div> | <div align=\"center\">list, tuple, range</div> |\n",
    "| <div align=\"center\">Mapping</div> | <div align=\"center\">dict</div> |\n",
    "| <div align=\"center\">Set</div> | <div align=\"center\">set, frozenset</div> |\n",
    "| <div align=\"center\">Boolean</div> | <div align=\"center\">bool</div> |\n",
    "| <div align=\"center\">Binary</div> | <div align=\"center\">bytes, bytearray, memoryview</div> |\n",
    "\n",
    "We will look at all of these data types as we progress through the module. It should be noted at this stage, that Python has the facility to create new data types and many of the libraries you will use for Data Science will do just this giving many more possibilities. For now, we will focus on the textual, numeric and boolean types.\n",
    "\n",
    "### Null Values\n",
    "In fact, sometimes we may need to represent the absence of data. In Python, we use the special value `None`."
   ]
  },
  {
   "cell_type": "code",
   "execution_count": null,
   "metadata": {},
   "outputs": [],
   "source": [
    "result = None"
   ]
  },
  {
   "cell_type": "markdown",
   "metadata": {},
   "source": [
    "### A note of data types\n",
    "As you begin to develop python programs it can sometime be useful to find out what type of data is variable is storing. Python provides the special function `type()` for this purpose."
   ]
  },
  {
   "cell_type": "code",
   "execution_count": null,
   "metadata": {},
   "outputs": [],
   "source": [
    "x = 5 # define x as an int with value 5\n",
    "type(x)"
   ]
  },
  {
   "cell_type": "markdown",
   "metadata": {},
   "source": [
    "### Numeric Data Types\n",
    "There are three numeric types in Python: `int`, `float` and `complex`.\n",
    "#### int\n",
    "Used to represent a whole number, positive or negative, without a fraction or decimal, of unlimited length."
   ]
  },
  {
   "cell_type": "code",
   "execution_count": null,
   "metadata": {},
   "outputs": [],
   "source": [
    "x=1\n",
    "y=35656222554887711\n",
    "z=-3255522"
   ]
  },
  {
   "cell_type": "markdown",
   "metadata": {},
   "source": [
    "#### float\n",
    "Used to represent a floating point number, positive or negative, containing one or more decimals."
   ]
  },
  {
   "cell_type": "code",
   "execution_count": null,
   "metadata": {},
   "outputs": [],
   "source": [
    "x = 1.10\n",
    "y = 1.0\n",
    "z = -35.59"
   ]
  },
  {
   "cell_type": "markdown",
   "metadata": {},
   "source": [
    " Optionally, float can also be a scientific number with an e to indicate the power of 10."
   ]
  },
  {
   "cell_type": "code",
   "execution_count": null,
   "metadata": {},
   "outputs": [],
   "source": [
    "x = 35e3\n",
    "y = 12E4\n",
    "z = -87.7e100"
   ]
  },
  {
   "cell_type": "markdown",
   "metadata": {},
   "source": [
    "#### complex\n",
    "Used to represent complex numbers whcih are formed from a real part and imaginary part. The imaginary part is written with a `j`"
   ]
  },
  {
   "cell_type": "code",
   "execution_count": null,
   "metadata": {},
   "outputs": [],
   "source": [
    "x = 3+5j\n",
    "y = 5j\n",
    "z = -5j"
   ]
  },
  {
   "cell_type": "markdown",
   "metadata": {},
   "source": [
    "### Arithmetic Operators\n",
    "Values of all three numeric data types can be used in arithmetic expressions. Below are a list of Python's arithmetic operators:\n",
    "\n",
    "| Symbol | Task Performed |\n",
    "|----|---|\n",
    "| +  | addition |\n",
    "| -  | subtraction |\n",
    "| /  | division |\n",
    "| %  | modulus |\n",
    "| *  | multiplication |\n",
    "| //  | floor division |\n",
    "| **  | to the power of |\n",
    "| abs() | absolute value |\n",
    "\n",
    "Some examples:"
   ]
  },
  {
   "cell_type": "code",
   "execution_count": null,
   "metadata": {},
   "outputs": [],
   "source": [
    "1+2 # addition"
   ]
  },
  {
   "cell_type": "code",
   "execution_count": null,
   "metadata": {},
   "outputs": [],
   "source": [
    "2-1 # subtraction"
   ]
  },
  {
   "cell_type": "code",
   "execution_count": null,
   "metadata": {},
   "outputs": [],
   "source": [
    "1/2 # division"
   ]
  },
  {
   "cell_type": "code",
   "execution_count": null,
   "metadata": {},
   "outputs": [],
   "source": [
    "15%10 # modulus - the remainder of the division"
   ]
  },
  {
   "cell_type": "code",
   "execution_count": null,
   "metadata": {},
   "outputs": [],
   "source": [
    "1*2 # mulitplication"
   ]
  },
  {
   "cell_type": "code",
   "execution_count": null,
   "metadata": {},
   "outputs": [],
   "source": [
    "15//10 # floor - rounds the result down to the nearest whole number"
   ]
  },
  {
   "cell_type": "code",
   "execution_count": null,
   "metadata": {},
   "outputs": [],
   "source": [
    "5**2 # power"
   ]
  },
  {
   "cell_type": "code",
   "execution_count": null,
   "metadata": {},
   "outputs": [],
   "source": [
    "abs(-1) # absolute value"
   ]
  },
  {
   "cell_type": "markdown",
   "metadata": {},
   "source": [
    "##### Rules of operator precedence\n",
    "The arithmetic operators follow the rules of precedence you might have learned as \"PEMDAS\":\n",
    "\n",
    "* Parentheses before\n",
    "* Exponentiation before\n",
    "* Multiplication before\n",
    "* Division before\n",
    "* Addition before\n",
    "* Subtraction\n",
    "\n",
    "So in the following expression the multiplication happens first:"
   ]
  },
  {
   "cell_type": "code",
   "execution_count": null,
   "metadata": {},
   "outputs": [],
   "source": [
    "1 + 2 * 3"
   ]
  },
  {
   "cell_type": "markdown",
   "metadata": {},
   "source": [
    "If that's not what you want, you can use parentheses to make the order of operations explicit:"
   ]
  },
  {
   "cell_type": "code",
   "execution_count": null,
   "metadata": {},
   "outputs": [],
   "source": [
    "(1 + 2) * 3"
   ]
  },
  {
   "cell_type": "markdown",
   "metadata": {},
   "source": [
    "#### Mathematical Expressions\n",
    "Variables can be used in calculations (also known as expressions) as if they were the values. For example, we could add `1` and `2` together and store the result in `z`. Or, we could set variable `x` equal to `1` and variable `y` equal to `2` and add these two variables together and store the result in `zz`. This is the one of the strengths of programming. We can capture the behaviour of adding of two values together without fixing which two values are added. This way we can use this addition functionality for any two numeric values we wish simply by setting `x` and `y` accordingly. We can go further an build algebriac formulae into a program thereby gaining all the benefits of the mathematical way of thinking."
   ]
  },
  {
   "cell_type": "code",
   "execution_count": null,
   "metadata": {},
   "outputs": [],
   "source": [
    "z = 1 + 2  # add 1 and 2 together and store in a new variable z\n",
    "print(z)\n",
    "\n",
    "x = 1\n",
    "y = 2\n",
    "zz = x + y  # add x and y together and store in a new variable zz\n",
    "print(zz)"
   ]
  },
  {
   "cell_type": "markdown",
   "metadata": {},
   "source": [
    "### <font color='red'><u>Worksheet Exercise</u></font>\n",
    "Now let's use variables to solve a problem involving mathematical calculation. Suppose we have the following formula for computing compound interest [from Wikipedia](https://en.wikipedia.org/wiki/Compound_interest#Periodic_compounding):\n",
    "\n",
    "$V=P\\left(1+{\\frac {r}{n}}\\right)^{nt}$\n",
    "\n",
    "where:\n",
    "\n",
    "* $P$ is the original principal sum\n",
    "* $V$ is the total accumulated value\n",
    "* $r$ is the nominal annual interest rate\n",
    "* $n$ is the compounding frequency\n",
    "* $t$ is the overall length of time the interest is applied (expressed using the same time units as $r$, usually years).\n",
    "\n",
    "Suppose a principal amount of \\$1,500 is deposited in a bank paying an annual interest rate of 4.3\\%, compounded quarterly.\n",
    "Then the balance after 6 years is found by using the formula above, with the following values:"
   ]
  },
  {
   "cell_type": "code",
   "execution_count": null,
   "metadata": {},
   "outputs": [],
   "source": [
    "P = 1500\n",
    "r = 0.043\n",
    "n = 4\n",
    "t = 6"
   ]
  },
  {
   "cell_type": "markdown",
   "metadata": {},
   "source": [
    "We can compute the total accumulated value by translating the mathematical formula into Python syntax:"
   ]
  },
  {
   "cell_type": "code",
   "execution_count": null,
   "metadata": {},
   "outputs": [],
   "source": [
    "P * (1 + r/n)**(n*t)"
   ]
  },
  {
   "cell_type": "markdown",
   "metadata": {},
   "source": [
    "Suppose the same amount of \\$1,500 is compounded biennially, so `n = 1/2`.  \n",
    "What would the total value be after 6 years?  Hint: we expect the answer to be a bit less than the previous answer."
   ]
  },
  {
   "cell_type": "code",
   "execution_count": null,
   "metadata": {},
   "outputs": [],
   "source": [
    "# add your exercise solution here"
   ]
  },
  {
   "cell_type": "markdown",
   "metadata": {},
   "source": [
    "### <font color='red'><u>More Exercises</u></font>\n",
    "You may need to use a search engine to find a formulas for the following exercises: \n",
    "1. Create a Python expression to convert a weight given in pounds to kilograms\n",
    "2. Create a Python expression to convert a temperature given in fahrenheit to celsius\n",
    "3. Use the quadratic formula to solve the following: $-x^2+8x-1=0$. NOTE: to do this you will need to use the math library. Add the following code to the beginning of your solution: `import math`. You can now use the `sqrt()` method, e.g. `math.sqrt(25)` provides the square root of 25."
   ]
  },
  {
   "cell_type": "code",
   "execution_count": null,
   "metadata": {},
   "outputs": [],
   "source": [
    "# add your exercise solutions here"
   ]
  },
  {
   "cell_type": "markdown",
   "metadata": {},
   "source": [
    "#### Arithmetic Assignment Operators\n",
    "Assignment operators can be combined with arithmetic operators to perform an arithmetic operation on a variable value and then assign the results back into the same variable. For example, `x+=3` is equivalent to `x=x+3`. \n",
    "\n",
    "| Symbol | Task Performed |\n",
    "|----|---|\n",
    "| +=  | addition plus assignment |\n",
    "| -=  | subtraction plus assignment |\n",
    "| *=  | multiplication plus assignment |\n",
    "| /=  | division plus assignment |\n",
    "| %=  | modulus plus assignment |\n",
    "| //=  | floor division plus assignment |\n",
    "| **=  | to the power of plus assignment |"
   ]
  },
  {
   "cell_type": "code",
   "execution_count": null,
   "metadata": {},
   "outputs": [],
   "source": [
    "x=10\n",
    "x+=3\n",
    "x"
   ]
  },
  {
   "cell_type": "markdown",
   "metadata": {},
   "source": [
    "### Boolean Data Type\n",
    "A boolean variable can take two values only: `True` or `False`. In programming you often need to know if an expression is true or false. This will be of use in flow control operations. We will look at these in Week 3. For now, it is useful to understand the relational operators that are available for comparing two values:\n",
    "\n",
    "| Symbol | Task Performed |\n",
    "|----|---|\n",
    "| == | True, if it is equal |\n",
    "| !=  | True, if not equal to |\n",
    "| < | less than |\n",
    "| > | greater than |\n",
    "| <=  | less than or equal to |\n",
    "| >=  | greater than or equal to |"
   ]
  },
  {
   "cell_type": "code",
   "execution_count": null,
   "metadata": {},
   "outputs": [],
   "source": [
    "z=1"
   ]
  },
  {
   "cell_type": "code",
   "execution_count": null,
   "metadata": {},
   "outputs": [],
   "source": [
    "z==1 # equality"
   ]
  },
  {
   "cell_type": "code",
   "execution_count": null,
   "metadata": {},
   "outputs": [],
   "source": [
    "z!=2 # inequality"
   ]
  },
  {
   "cell_type": "code",
   "execution_count": null,
   "metadata": {},
   "outputs": [],
   "source": [
    "z>1 # greater than"
   ]
  },
  {
   "cell_type": "code",
   "execution_count": null,
   "metadata": {},
   "outputs": [],
   "source": [
    "z<=1 # less than or equal to"
   ]
  },
  {
   "cell_type": "markdown",
   "metadata": {
    "colab_type": "text",
    "id": "zlnHLnmRMY8l"
   },
   "source": [
    "### Textual Data Type\n",
    "Strings are a sequence of characters which can be stored either as a constant or a variable. Strings are must be enclosed in quotation marks (either `'...'` or `\"...\"`) for the data to recognized as a string. This is called a string literal. We will briefly return to strings in Week 4 when looking at the List datatype - there are some similarities between strings and Lists  in the way that Python can be used to access individual elements."
   ]
  },
  {
   "cell_type": "code",
   "execution_count": null,
   "metadata": {
    "colab": {
     "base_uri": "https://localhost:8080/",
     "height": 35
    },
    "colab_type": "code",
    "id": "BIGc-dwobOzs",
    "outputId": "0addf3da-8c9a-408e-ff65-47c26e338a45"
   },
   "outputs": [],
   "source": [
    "# Declaring a string variable using \"\n",
    "string = \"This is a python string\"\n",
    "\n",
    "print(string)"
   ]
  },
  {
   "cell_type": "code",
   "execution_count": null,
   "metadata": {
    "colab": {
     "base_uri": "https://localhost:8080/",
     "height": 35
    },
    "colab_type": "code",
    "id": "sOgqU15TbRP6",
    "outputId": "3d7c0ea5-ae76-4506-d093-804e3214cb80"
   },
   "outputs": [],
   "source": [
    "# Declaring a string variable using '\n",
    "another_string = 'This is another python string'\n",
    "\n",
    "print(another_string)"
   ]
  },
  {
   "cell_type": "markdown",
   "metadata": {},
   "source": [
    "In fact, in Python you can define a multiline string literal using three quote marks at either end of the string, i.e. `'''...'''` or `\"\"\"...\"\"\"`. This will preserve new lines and any spaces in the text."
   ]
  },
  {
   "cell_type": "code",
   "execution_count": null,
   "metadata": {
    "colab_type": "text",
    "id": "SGLhburabSbf"
   },
   "outputs": [],
   "source": [
    "# Declaring a string that spans multiple lines using '''\n",
    "span_string= \"\"\"Lorem ipsum dolor sit amet,\n",
    "    consectetur adipiscing elit,\n",
    "sed do eiusmod tempor incididunt\n",
    "ut labore et dolore magna aliqua.\"\"\"\n",
    "\n",
    "print(span_string)"
   ]
  },
  {
   "cell_type": "markdown",
   "metadata": {},
   "source": [
    "#### Finding the length of a string\n",
    "The `len()` function returns the length of the string."
   ]
  },
  {
   "cell_type": "code",
   "execution_count": null,
   "metadata": {},
   "outputs": [],
   "source": [
    "string = \"programming\"\n",
    "string_len = len(string)\n",
    "print(string_len)"
   ]
  },
  {
   "cell_type": "markdown",
   "metadata": {},
   "source": [
    "#### String Concatenation\n",
    "Concatenation is the process of appending one string to the end of another string. You concatenate strings by using the `+` operator. "
   ]
  },
  {
   "cell_type": "code",
   "execution_count": null,
   "metadata": {},
   "outputs": [],
   "source": [
    "firstName = \"Dave\"\n",
    "surname = \"Wyatt\"\n",
    "fullName = firstName + \" \" + surname # concatenate two variables with a space separator\n",
    "print(fullName)"
   ]
  },
  {
   "cell_type": "markdown",
   "metadata": {},
   "source": [
    "However, you must be careful when using the `+` to ensure both operands are strings. The following example results in a TypeError because we are trying to add a string and a number together. It is possible to fix this error by converting the number to a string using the `str()` function, i.e. `message = \"Hello\" + str(2)`. Try this fix. There is more information about converting between data types at the end of this Notebook."
   ]
  },
  {
   "cell_type": "code",
   "execution_count": null,
   "metadata": {},
   "outputs": [],
   "source": [
    "message = \"Hello\" + 2 # attempt to concatenate a string and integer\n",
    "print(message)"
   ]
  },
  {
   "cell_type": "markdown",
   "metadata": {
    "colab_type": "text",
    "id": "bKV_oUeUbT9G"
   },
   "source": [
    "#### Escape sequences in Python using strings\n",
    "In Python strings, the backslash `\\` is a special character, also called the \"escape\" character. It is used in representing certain whitespace characters such as `\\t` (tab) and `\\n` (new line). Finally, `\\` can be used to escape itself: `\\\\` is the literal backslash character. Here is list of the common escape characters:\n",
    "\n",
    "| Escape Code | Result |\n",
    "|---|---|\n",
    "| \\\\' | single quote |\n",
    "| \\\\\" | double quote |\n",
    "| \\\\n  | new line |\n",
    "| \\\\r | carriage return |\n",
    "| \\\\t | tab |\n",
    "| \\\\b  | backspace |\n",
    "| \\\\f  | form feed |\n",
    "| \\\\\\\\  | backslash itself |"
   ]
  },
  {
   "cell_type": "code",
   "execution_count": null,
   "metadata": {
    "colab": {
     "base_uri": "https://localhost:8080/",
     "height": 35
    },
    "colab_type": "code",
    "id": "iqAlH3DHbYfB",
    "outputId": "f37893b8-ef66-4b97-ef1c-f4f99dd7878c"
   },
   "outputs": [],
   "source": [
    "# THis is an escape sequence.\n",
    "string = \"This is a \\\"Week 2 of the Module\\\"\"\n",
    "print(string)"
   ]
  },
  {
   "cell_type": "markdown",
   "metadata": {},
   "source": [
    "#### Indexing a single character in a string\n",
    "The characters (individual letters, numbers, and so on) in a string are ordered. For example, the string `AB` is not the same as `BA`. Because of this ordering, we can treat the string as a list of characters. Each position in the string (1st, 2nd, etc) is given a number. This number is called an index or sometimes a subscript. Indices are numbered from 0. Use the position’s index in `[]` square brackets to get the character at that position."
   ]
  },
  {
   "cell_type": "code",
   "execution_count": null,
   "metadata": {},
   "outputs": [],
   "source": [
    "atomic_element=\"helium\"\n",
    "print(atomic_element[0]) # print the 1st character in the string\n",
    "print(atomic_element[1]) # print the 2nd character in the string"
   ]
  },
  {
   "cell_type": "markdown",
   "metadata": {},
   "source": [
    "#### Selecting a substring\n",
    "A part of a string is called a substring. A substring can be as short as a single character. A slice is a part of a string. We take a slice by using `[start:stop]`, where `start` is replaced with the index of the first character we want and `stop` is replaced with the index of the character just after the last character we want. Therefore, the difference between `stop` and `start` is the slice’s length. Taking a slice does not change the contents of the original string. Instead, the slice is a copy of part of the original string."
   ]
  },
  {
   "cell_type": "code",
   "execution_count": null,
   "metadata": {},
   "outputs": [],
   "source": [
    "atomic_element=\"sodium\"\n",
    "print(atomic_element[0:3]) # print a substring made up of the first three characters"
   ]
  },
  {
   "cell_type": "markdown",
   "metadata": {},
   "source": [
    "In fact, you can omit `start` or `stop` and Python will automatically use the beginning or end of the string respectively."
   ]
  },
  {
   "cell_type": "code",
   "execution_count": null,
   "metadata": {},
   "outputs": [],
   "source": [
    "atomic_element=\"hydrogen\"\n",
    "print(atomic_element[:5]) # omitting start - uses 0\n",
    "print(atomic_element[5:]) # omitting end - uses 8 (length of string)"
   ]
  },
  {
   "cell_type": "markdown",
   "metadata": {},
   "source": [
    "NOTE: the full slicing syntax is much more flexibile than this brief introduction to the idea. We will return to slicing in Week 4 when we focus on the Python data structures."
   ]
  },
  {
   "cell_type": "markdown",
   "metadata": {},
   "source": [
    "### <font color='red'><u>Worksheet Exercises</u></font>\n",
    "1. Given the following string `Albert Einstein`, use the slicing syntax build the string `Alstein Einbert`\n",
    "2. Given a string of odd length (such as `Universal`), use slicing to display a string made of the middle three chars of a given string, e.g. `ver`\n",
    "3. Given 2 strings, `s1` and `s2`, create a new string, `s3`, by appending `s2` in the middle of `s1`"
   ]
  },
  {
   "cell_type": "code",
   "execution_count": null,
   "metadata": {},
   "outputs": [],
   "source": [
    "# add your exercise solutions here"
   ]
  },
  {
   "cell_type": "markdown",
   "metadata": {
    "colab_type": "text",
    "id": "Xwybsw-dccVE"
   },
   "source": [
    "#### Common string methods\n",
    "There are dozens of methods available for the string object. It is beyond the scope of this session to show them all. So, here are a few to try out:\n",
    "\n",
    "##### `split()`\n",
    "The `split()` method splits the string into smaller substrings and returns them as a Python list. You can specify which separator to use (such as a `,` or `\\t`). The default separator is any whitespace."
   ]
  },
  {
   "cell_type": "code",
   "execution_count": null,
   "metadata": {},
   "outputs": [],
   "source": [
    "string = \"Now is the time for all good men to come to the aid of the party\"\n",
    "substrings = string.split()\n",
    "print(substrings)"
   ]
  },
  {
   "cell_type": "markdown",
   "metadata": {},
   "source": [
    "##### `strip()`\n",
    "The `strip()` method strips or removes the white spaces both from the starting and the ending of a string."
   ]
  },
  {
   "cell_type": "code",
   "execution_count": null,
   "metadata": {},
   "outputs": [],
   "source": [
    "string = \"     programming is easy    \"\n",
    "string = string.strip()\n",
    "print(string)"
   ]
  },
  {
   "cell_type": "markdown",
   "metadata": {
    "colab_type": "text",
    "id": "JWA0gP58cfDN"
   },
   "source": [
    "##### `replace()`\n",
    "The `replace()` method is used for changing string content."
   ]
  },
  {
   "cell_type": "code",
   "execution_count": null,
   "metadata": {
    "colab": {
     "base_uri": "https://localhost:8080/",
     "height": 69
    },
    "colab_type": "code",
    "id": "Yr9uB9hqcgLr",
    "outputId": "2ad561ea-8a70-45a9-e21d-4bd83ff2d28c"
   },
   "outputs": [],
   "source": [
    "Money = '$113,678'\n",
    "print(Money)"
   ]
  },
  {
   "cell_type": "code",
   "execution_count": null,
   "metadata": {
    "colab": {
     "base_uri": "https://localhost:8080/",
     "height": 35
    },
    "colab_type": "code",
    "id": "fsK018P2cjJ3",
    "outputId": "f8bc3015-ecec-4f3a-a93e-ca4f63eb0e0c"
   },
   "outputs": [],
   "source": [
    "Money = Money.replace('$', '£') # replace the $ sign for a £ sign\n",
    "print(Money)"
   ]
  },
  {
   "cell_type": "code",
   "execution_count": null,
   "metadata": {},
   "outputs": [],
   "source": [
    "round(2.34)"
   ]
  },
  {
   "cell_type": "markdown",
   "metadata": {},
   "source": [
    "##### `find()`\n",
    "The `find()` method finds the first occurrence of the specified value or it returns -1 if the value is not found."
   ]
  },
  {
   "cell_type": "code",
   "execution_count": null,
   "metadata": {},
   "outputs": [],
   "source": [
    "string = \"programming\"\n",
    "print(string.find('m')) # find the first m\n",
    "print(string.find('z')) # find the first z - there are none, so -1 is returned"
   ]
  },
  {
   "cell_type": "markdown",
   "metadata": {},
   "source": [
    "##### `format()`\n",
    "In Python, the `format()` method can be used for handling complex string formatting more efficiently. The method provides functionality for complex variable substitutions and value formatting. Programmers should place in one or more placeholder fields into a string. Placeholder fields are defined by a pair of curly braces `{}`. The value we wish to put into the placeholders and concatenate with the string are then passed as parameters into the format function.\n",
    "\n",
    "###### Placeholders\n",
    "The following example shows a single placeholder `{}` inserted into the `message` string which is then formatted with the value `Programming for Data Science`."
   ]
  },
  {
   "cell_type": "code",
   "execution_count": null,
   "metadata": {},
   "outputs": [],
   "source": [
    "# a single placeholder example\n",
    "message = \"This Notebook is part of the {} module learning materials\" # create a string with placeholder {}\n",
    "formatted_message = message.format(\"Programming for Data Science\") # use the format method to add a value\n",
    "print(formatted_message)"
   ]
  },
  {
   "cell_type": "markdown",
   "metadata": {},
   "source": [
    "The following example shows a multiple placeholders inserted into the `message` string which are then formatted with corresponding values."
   ]
  },
  {
   "cell_type": "code",
   "execution_count": null,
   "metadata": {},
   "outputs": [],
   "source": [
    "# a multiple placeholders example\n",
    "message = \"This Notebook is part of the {} module learning materials for Week {} of the module\" \n",
    "formatted_message = message.format(\"Programming for Data Science\", 2)\n",
    "print(formatted_message)"
   ]
  },
  {
   "cell_type": "markdown",
   "metadata": {},
   "source": [
    "When using multiple placeholders, we can also include positional arguments in the formatted string. NOTE: positional arguments used in the formatted strings begin at `0` not `1`. This means the first argument in the `format()` method call replaces the placeholder `{0}` in the formatted string."
   ]
  },
  {
   "cell_type": "code",
   "execution_count": null,
   "metadata": {},
   "outputs": [],
   "source": [
    "# a multiple placeholders example with positional arguments\n",
    "message_postional_arguments = \"The first argument is {0} and the second argument is {1}\"\n",
    "formatted_message = message_postional_arguments.format(\"Programming for Data Science\", 2)\n",
    "print(formatted_message)"
   ]
  },
  {
   "cell_type": "markdown",
   "metadata": {},
   "source": [
    "Or, we can also include keyword arguments in the formatted string."
   ]
  },
  {
   "cell_type": "code",
   "execution_count": null,
   "metadata": {},
   "outputs": [],
   "source": [
    "# a multiple placeholders example with keyword arguments\n",
    "message_keyword_arguments = \"The first argument is {first} and the second argument is {second}\"\n",
    "formatted_message = message_keyword_arguments.format(first=\"Programming for Data Science\", second=2)\n",
    "print(formatted_message)"
   ]
  },
  {
   "cell_type": "markdown",
   "metadata": {},
   "source": [
    "###### Value Formatting\n",
    "Additional information can be included within the placeholder `{}` brackets to provide greater control over how the value inserted will be formatted. To do this you must add a `:` after any positional or keyword argument and then include the value formatting argument, e.g. `{0:d}` states that the first argument should be displayed as a decimal value. NOTE: there is no requirement that you must use positional or keyword arguments and so the previous example could also be written `{:d}`.\n",
    "\n",
    "One really useful technique when formatting text is to pad in the output with extra spaces. For instance, you might wish to output data in a tabular format. To do this you must add a `:` to the placeholder and include the minimum size of the output field, e.g. `{0:10}` would force the format method to allocate 10 characters for the first field even if the value was only 1 or 2 characters long. If the vlaue size is larger than the stated field width it is NOT truncated."
   ]
  },
  {
   "cell_type": "code",
   "execution_count": null,
   "metadata": {},
   "outputs": [],
   "source": [
    "msg=\"a is {:10}\" # set the minimum width of the output field to 10 characters\n",
    "print(msg.format(2.3)) # a value smaller than 10 characters\n",
    "\n",
    "msg=\"a is {:10}\"\n",
    "print(msg.format(\"123456789012\")) # a value larger than 10 characters"
   ]
  },
  {
   "cell_type": "markdown",
   "metadata": {},
   "source": [
    "There are many other ways to affect the formatting of a value. The table below shows a few of the options available to you:\n",
    "\n",
    "| Value Format | Decription |\n",
    "|---|---|\n",
    "|`:<`|Left align the value (within the available space)|\n",
    "|`:>`|Right align the value (within the available space)|\n",
    "|`:^`|Center align the value (within the available space)|\n",
    "|`:+`|Use to indicate if the result is positive or negative|\n",
    "|`:-`|Use to indicate negative values only|\n",
    "|`:d`|Decimal format|\n",
    "|`:e`|Scientific format with a lower case e|\n",
    "|`:f`|Fixed point format - requires additional information|\n",
    "\n",
    "Here are some examples of these:"
   ]
  },
  {
   "cell_type": "code",
   "execution_count": null,
   "metadata": {},
   "outputs": [],
   "source": [
    "txt = \"We have {:<8} chickens.\" # left align the text within the field of width 8\n",
    "print(txt.format(49))\n",
    "\n",
    "txt = \"We have {:>8} chickens.\" # right align the text within the field of width 8\n",
    "print(txt.format(49))\n",
    "\n",
    "txt = \"We have {:^8} chickens.\" # center align the text within the field of width 8\n",
    "print(txt.format(49))\n",
    "\n",
    "txt = \"The temperature is between {:+} and {:+} degrees celsius.\" # indicate positive and negative values\n",
    "print(txt.format(-3, 7))\n",
    "\n",
    "txt = \"The temperature is between {:-} and {:-} degrees celsius.\" # indicate negative values only\n",
    "print(txt.format(-3, 7))\n",
    "\n",
    "txt = \"We have {:e} chickens.\" # output in scientific notation\n",
    "print(txt.format(49))\n",
    "\n",
    "txt = \"The price is {:.2f} dollars.\" # specify the number of digits after the decimal point (in this case 2)\n",
    "print(txt.format(45))"
   ]
  },
  {
   "cell_type": "markdown",
   "metadata": {},
   "source": [
    "### <font color='red'><u>Worksheet Exercises</u></font>\n",
    "1. Using the `format()` method and three `{}` curly brackets, print the numbers 1, 2 and 3 each separated with a comma, i.e. `1,2,3`\n",
    "2. Adjust the following code snippet to output the correct answer: `str=\"One year has {} months, {} weeks and {} days.\".format(52, 365, 12)`. NOTE: you should change the contents of the string NOT the format method.\n",
    "3. Using `format()` and fixed width fields (such as `{:10}`) reproduce the following table:\n",
    "\n",
    "| Product | Qtr 1 | Qtr 2 | Grand Total |\n",
    "|---------|-------|-------|-------------|\n",
    "|Chocolate|£744.60|£162.56|£907.16|\n",
    "|Gummibarchen|£5,079.60|£1,249.20|£6,328.80|\n",
    "|Scottish Longbreads|£1,267.50|£1,062.50|£2,330.00|\n",
    "|Sir Rodney's Scones|£1,418.00|£756.00|£2,174.00|\n",
    "|Tarte au sucre|£4,728.00|£4,547.92|£9,275.92|\n",
    "|Chocolate Biscuits|£943.89|£349.60|£1,293.49|\n",
    "|Totals|£14,181.59|£8,127.78|£22,309.37|\n"
   ]
  },
  {
   "cell_type": "code",
   "execution_count": null,
   "metadata": {},
   "outputs": [],
   "source": [
    "# add your exercise solutions here"
   ]
  },
  {
   "cell_type": "markdown",
   "metadata": {},
   "source": [
    "### Converting between Data Types\n",
    "There will be occasions when the value stored in variable is of the wrong data type. For example, assume that we have an mathematical expression (`area = (base/2)*height`) that calculates the area of a triangle but that the variables `base` and `height` are strings. This is not an unrealistic scenario. Data comes in many different forms. To perform this calculation without error, the programmer will need to convert the string representation of the value into an float before it can be used in the expression. Execute the code below and you will see an error is produced."
   ]
  },
  {
   "cell_type": "code",
   "execution_count": null,
   "metadata": {},
   "outputs": [],
   "source": [
    "base=\"4.6\"\n",
    "height=\"5.3\"\n",
    "area = (base/2)*height\n",
    "print(\"Area of the triangle is\", area)"
   ]
  },
  {
   "cell_type": "markdown",
   "metadata": {},
   "source": [
    "#### Converting to a float\n",
    "To convert an integer or a string to a floating-point number use the `float()` function."
   ]
  },
  {
   "cell_type": "code",
   "execution_count": null,
   "metadata": {},
   "outputs": [],
   "source": [
    "x = float(\"1.234\")  # convert a string into a float\n",
    "y = float(4321)  # convert an integer into a float\n",
    "\n",
    "type(x), type(y) # the type of x and y are both float"
   ]
  },
  {
   "cell_type": "markdown",
   "metadata": {},
   "source": [
    "Using the `float()` function, we can now edit and execute the example expression for calculating the area of a triangle:"
   ]
  },
  {
   "cell_type": "code",
   "execution_count": null,
   "metadata": {},
   "outputs": [],
   "source": [
    "base=\"4.6\"\n",
    "height=\"5.3\"\n",
    "area = (float(base)/2)*float(height)\n",
    "print(\"Area of the triangle is\", area)"
   ]
  },
  {
   "cell_type": "markdown",
   "metadata": {},
   "source": [
    "#### Converting to a integer\n",
    "To convert an float or a string to an integer use the `int()` function."
   ]
  },
  {
   "cell_type": "code",
   "execution_count": null,
   "metadata": {},
   "outputs": [],
   "source": [
    "x = int(\"1234\")  # convert a string into an int\n",
    "y = int(1.234)  # convert an float into an int\n",
    "\n",
    "type(x), type(y) # the type of x and y are both int"
   ]
  },
  {
   "cell_type": "markdown",
   "metadata": {},
   "source": [
    "#### Converting to a string\n",
    "To convert an float or an integer to a string use the `str()` function."
   ]
  },
  {
   "cell_type": "code",
   "execution_count": null,
   "metadata": {},
   "outputs": [],
   "source": [
    "x = str(1234)  # convert an integer into an string\n",
    "y = str(1.234)  # convert a float into an string\n",
    "\n",
    "type(x), type(y) # the type of x and y are both str"
   ]
  },
  {
   "cell_type": "code",
   "execution_count": null,
   "metadata": {},
   "outputs": [],
   "source": []
  }
 ],
 "metadata": {
  "kernelspec": {
   "display_name": "Python 3",
   "language": "python",
   "name": "python3"
  },
  "language_info": {
   "codemirror_mode": {
    "name": "ipython",
    "version": 3
   },
   "file_extension": ".py",
   "mimetype": "text/x-python",
   "name": "python",
   "nbconvert_exporter": "python",
   "pygments_lexer": "ipython3",
   "version": "3.8.5"
  }
 },
 "nbformat": 4,
 "nbformat_minor": 2
}
