{
 "cells": [
  {
   "cell_type": "markdown",
   "metadata": {},
   "source": [
    "# UFCFVQ-15-M Programming for Data Science\n",
    "# Week 4 Jupyter Notebook \n",
    "# Python Data Structures\n",
    "\n",
    "\n",
    "## Goals\n",
    "This notebook has been created to familiarise you with Python's built-in Data Structures - List, Tuple, Set and Dictionary. Most of the code needed to progress through this Notebook has been provided for you. However, there are several coding tasks that you will need to complete yourself by entering code yourself. In addition, there are several exercises for you to complete. Answers to these exercises are available on Blackboard.\n",
    "\n",
    "The topics in this notebook include:\n",
    "* Lists\n",
    "* List Comprehensions\n",
    "* Tuples\n",
    "* List/Tuple Slicing\n",
    "* Sets\n",
    "* Dictionaries"
   ]
  },
  {
   "cell_type": "markdown",
   "metadata": {},
   "source": [
    "## Lists\n",
    "Lists are the most commonly used data structure in Python. It is called an iterable object. This means it is capable of returning its members one item as a time. Think of it as an ordered sequence of data items  List items are ordered, changeable, and allow duplicate values. This means items placed in a list will remain in the order they were initially placed. However, we can add, remove or update items in a list after it has been created. This is called mutability. Finally, each element of a list has a defined index position which we can use to access that item within the list.\n",
    "\n",
    "Lists are represented in Python as a comma separated list of values that are enclosed within `[]` brackets.\n",
    "\n",
    "### Initialisation\n",
    "Lists are initialised using the assignment operator `=` followed by a sequence of comma-separated data elements placed inside `[]` brackets. "
   ]
  },
  {
   "cell_type": "code",
   "execution_count": null,
   "metadata": {},
   "outputs": [],
   "source": [
    "# create a list of strings\n",
    "cars=['Ford','BMW','Volkswagen','Audi','Kia','Nissan']\n",
    "\n",
    "print(cars)"
   ]
  },
  {
   "cell_type": "markdown",
   "metadata": {},
   "source": [
    "It should be noted that the data elements that form a list do not need to be of the same data type."
   ]
  },
  {
   "cell_type": "code",
   "execution_count": null,
   "metadata": {},
   "outputs": [],
   "source": [
    "# an example of mixed data types in a list\n",
    "person=['Dave Wyatt', 51, 1.76, \"Academic\"]"
   ]
  },
  {
   "cell_type": "markdown",
   "metadata": {},
   "source": [
    "This means we can easily create a list that includes other lists (or any other Python data structure)."
   ]
  },
  {
   "cell_type": "code",
   "execution_count": null,
   "metadata": {},
   "outputs": [],
   "source": [
    "# an example of a list of lists\n",
    "person=['Dave Wyatt', 51, 1.76, \"Academic\", \"Male\"]\n",
    "person1=['Supriti Acharya', 35, 1.68, \"Pharmacist\", \"Female\"]\n",
    "person2=['Ottilie Escoffier', 23, 1.62, \"Data Scientist\", \"Non-Binary\"]\n",
    "\n",
    "people=[person, person1, person2]\n",
    "print(people)"
   ]
  },
  {
   "cell_type": "markdown",
   "metadata": {},
   "source": [
    "### Indexing\n",
    "Individual elements in the list can be accessed using an index value. In Python, indexing starts from 0. However, Python also permits negative indexing which gives us a way to index from the end of the list. To access an element, you simply include the index value within square brackets. Below is an illustration of the `cars` list defined above with both positive and negative indexes.\n",
    "\n",
    "|<div align=\"center\">'Ford'</div>|<div align=\"center\">'BMW'</div>|<div align=\"center\">'Volkswagen'</div>|<div align=\"center\">'Audi'</div>|<div align=\"center\">'Kia'</div>|<div align=\"center\">'Nissan'</div>|\n",
    "|---|---|---|---|---|---|\n",
    "|<div align=\"center\">0</div>|<div align=\"center\">1</div>|<div align=\"center\">2</div>|<div align=\"center\">3</div>|<div align=\"center\">4</div>|<div align=\"center\">5</div>|\n",
    "|<div align=\"center\">-6</div>|<div align=\"center\">-5</div>|<div align=\"center\">-4</div>|<div align=\"center\">-3</div>|<div align=\"center\">-2</div>|<div align=\"center\">-1</div>|\n",
    "\n",
    "This means the first element in `cars` can be accessed using the following code:"
   ]
  },
  {
   "cell_type": "code",
   "execution_count": null,
   "metadata": {},
   "outputs": [],
   "source": [
    "# An example of indexing to access a list element\n",
    "print(cars[0]) # positive index\n",
    "print(cars[-6]) # negative index"
   ]
  },
  {
   "cell_type": "markdown",
   "metadata": {},
   "source": [
    "We can also combine indexes for more complex data structures. For example, in the `person` list above there are 3 lists within the `people` list. To access the first element of the second list, we can use the following code:"
   ]
  },
  {
   "cell_type": "code",
   "execution_count": null,
   "metadata": {},
   "outputs": [],
   "source": [
    "print(people[1][0]) # access the first element of the second list"
   ]
  },
  {
   "cell_type": "markdown",
   "metadata": {},
   "source": [
    "In last week's Jupyter Notebook, we looked at how to use a for loop to iterate through a list. This approach provides access to data elements without the need for the index value. This is a common way to access list elements in Python because it is more common to act on whole lists rather than individual list elements."
   ]
  },
  {
   "cell_type": "code",
   "execution_count": null,
   "metadata": {},
   "outputs": [],
   "source": [
    "# iterate through a list\n",
    "for car in cars:\n",
    "    print(car)"
   ]
  },
  {
   "cell_type": "markdown",
   "metadata": {},
   "source": [
    "#### Index out-of-bounds Error\n",
    "Python will not permit an index value that is outside of addressable elements in a list. Any attempt to do this will result in an `IndexError: list index out of range` message. Be careful when using indexes to avoid this."
   ]
  },
  {
   "cell_type": "code",
   "execution_count": null,
   "metadata": {},
   "outputs": [],
   "source": [
    "print(cars[6])"
   ]
  },
  {
   "cell_type": "markdown",
   "metadata": {},
   "source": [
    "### List Slicing\n",
    "In Week 2, we looked at how to use the slice operator to extract substrings from an existing string. Slicing can also be used with Lists (and Tuples). Some familiarity with the concept of slicing is assumed here. Slicing a sequence allows us to retrieve a subsequence of items, based on the indexing scheme described above. The basic syntax for slicing is: `seq[start:stop:step]`, using colons to separate the start, stop, and step values.\n",
    "\n",
    "Specifying a slice consists of:\n",
    "* A start-index: the sequence-position where the slice begins (this item is included in the slice).\n",
    "* A stop-index: the sequence-position where the slice ends (this item is excluded from the slice).\n",
    "* A step-size, which permits us to take every nth item within the start & stop bounds. \n",
    "\n",
    "If any of these values is left out of the slice, its default value is used. These are:\n",
    "* start: 0\n",
    "* stop: len(seq)\n",
    "* step: 1"
   ]
  },
  {
   "cell_type": "code",
   "execution_count": null,
   "metadata": {},
   "outputs": [],
   "source": [
    "# the following list slices are all equivalent\n",
    "print(cars[0:4]) # step assumed to be 1\n",
    "print(cars[0:4:1]) \n",
    "print(cars[:4]) # start assumed to be 0 and step assumed to be 1\n",
    "print(cars[:4:1]) # start assumed to be 0"
   ]
  },
  {
   "cell_type": "markdown",
   "metadata": {},
   "source": [
    "#### Negative Step-Size\n",
    "In fact, we can use a negative step-size to traverse a sequence in reverse order."
   ]
  },
  {
   "cell_type": "code",
   "execution_count": null,
   "metadata": {},
   "outputs": [],
   "source": [
    "print(cars[::-1])"
   ]
  },
  {
   "cell_type": "markdown",
   "metadata": {},
   "source": [
    "### <font color='red'><u>Worksheet Exercises</u></font>\n",
    "1. Create a list of all the colours in a rainbow\n",
    "2. Print the last colour in your list using a negative index\n",
    "3. Print all of the colours in your list except `\"Red\"`\n",
    "4. Print all of the colours in your list in reverse order\n",
    "5. Print the 1st, 3rd, 5th and 7th colours in your list using list slicing"
   ]
  },
  {
   "cell_type": "code",
   "execution_count": null,
   "metadata": {},
   "outputs": [],
   "source": [
    "# 1.\n",
    "rainbow = ['Red', 'Orange', 'Yellow', 'Green', 'Blue', 'Indigo', 'Violet']\n",
    "\n",
    "# 2.\n",
    "print(rainbow[-1])\n",
    "\n",
    "# 3.\n",
    "for col in rainbow:\n",
    "    if col != 'Red':\n",
    "        print(col)\n",
    "\n",
    "# 4.\n",
    "for col in rainbow[::-1]:   \n",
    "    print(col)   \n",
    "    \n",
    "# 5.\n",
    "for col in rainbow[::2]:\n",
    "    print(col)"
   ]
  },
  {
   "cell_type": "markdown",
   "metadata": {},
   "source": [
    "### Changing Elements\n",
    "The most common way to change an element value stored in a List is to use an index value to target the element we wish to change. Then, we use the assignment operator `=` to change its value."
   ]
  },
  {
   "cell_type": "code",
   "execution_count": null,
   "metadata": {},
   "outputs": [],
   "source": [
    "# change a element value\n",
    "cars[4] = 'Toyota'\n",
    "print(cars)"
   ]
  },
  {
   "cell_type": "markdown",
   "metadata": {},
   "source": [
    "In fact, it is possible to change multiple values at the same time using a slice operation instead of a single index value."
   ]
  },
  {
   "cell_type": "code",
   "execution_count": null,
   "metadata": {},
   "outputs": [],
   "source": [
    "# change the first three elements of a list using a slice operation\n",
    "cars[:3] = ['Fiat','Hyundia','Volvo']\n",
    "print(cars)"
   ]
  },
  {
   "cell_type": "markdown",
   "metadata": {},
   "source": [
    "### Adding Elements\n",
    "A List can change in size once it has been initialised. We can append an item to the end of a List, we can insert an item at any point within a List or we can extend a List with the content of another List (or any iterable data structure).\n"
   ]
  },
  {
   "cell_type": "markdown",
   "metadata": {},
   "source": [
    "#### Appending\n",
    "In Python, to append something to a List means to add it to the end of the List.  To append an object, we can use the `append()` method."
   ]
  },
  {
   "cell_type": "code",
   "execution_count": null,
   "metadata": {},
   "outputs": [],
   "source": [
    "# append an object to the end of a list\n",
    "cars.append('Skoda')\n",
    "print(cars)"
   ]
  },
  {
   "cell_type": "markdown",
   "metadata": {},
   "source": [
    "Any object can be added to a List including another List. However, this should not be confused with extending a list which is described later in the Notebook. In the example below, a List object is appended to the end of `cars`. NOTE: the whole of the `sports_cars` List is added to `cars` as a single element."
   ]
  },
  {
   "cell_type": "code",
   "execution_count": null,
   "metadata": {},
   "outputs": [],
   "source": [
    "# append a list to the end of a list\n",
    "sports_cars=['Lamborghini','Porsche','Ferrari']\n",
    "cars.append(sports_cars)\n",
    "print(cars)"
   ]
  },
  {
   "cell_type": "markdown",
   "metadata": {},
   "source": [
    "#### Inserting \n",
    "It is also possible to insert a new item within a List rather than at the end. To do this we can use the `insert()` method. This method has two parameters. Th first parameter is the index position at which to insert the new item. The second parameter is the object to be inserted."
   ]
  },
  {
   "cell_type": "code",
   "execution_count": null,
   "metadata": {},
   "outputs": [],
   "source": [
    "# insert an item into a list\n",
    "fruit=['Strawberry', 'Grape', 'Banana']\n",
    "fruit.insert(1,'Apple')\n",
    "print(fruit)"
   ]
  },
  {
   "cell_type": "markdown",
   "metadata": {},
   "source": [
    "#### Extending\n",
    "Above we covered how to append an item to the end of a List. The `extend()` method is similar but differs in the way iterable objects (such as List or Tuples) are processed. All elements of the iterable object are added one item at a time instead as a whole list (as is the case for `append()` method). This method is very useful when concatenating lists. "
   ]
  },
  {
   "cell_type": "code",
   "execution_count": null,
   "metadata": {},
   "outputs": [],
   "source": [
    "# add two lists together\n",
    "numbers = [1,2,3,4,5]\n",
    "more_numbers = [6,7,8,9,10]\n",
    "\n",
    "numbers.extend(more_numbers)\n",
    "print(numbers)\n"
   ]
  },
  {
   "cell_type": "markdown",
   "metadata": {},
   "source": [
    "In fact, if we want to concatenate two lists, we can also use the `+` operator to do this."
   ]
  },
  {
   "cell_type": "code",
   "execution_count": null,
   "metadata": {},
   "outputs": [],
   "source": [
    "# add two lists together using the + operator\n",
    "numbers = [1,2,3,4,5]\n",
    "more_numbers = [6,7,8,9,10]\n",
    "\n",
    "numbers = numbers + more_numbers\n",
    "print(numbers)"
   ]
  },
  {
   "cell_type": "markdown",
   "metadata": {},
   "source": [
    "### Removing Elements\n",
    "We can also remove elements from a List. We can remove an item from the end of a List, we can remove an item from any point within a List or we can remove all items from a List."
   ]
  },
  {
   "cell_type": "markdown",
   "metadata": {},
   "source": [
    "#### `pop()`\n",
    "The `pop()` method can be used to remove an element from the List at a specified index position."
   ]
  },
  {
   "cell_type": "code",
   "execution_count": null,
   "metadata": {},
   "outputs": [],
   "source": [
    "# remove an element from a list using pop()\n",
    "fruit=['Strawberry', 'Grape', 'Banana']\n",
    "fruit.pop(1) # remove the second item in the list\n",
    "print(fruit)"
   ]
  },
  {
   "cell_type": "markdown",
   "metadata": {},
   "source": [
    "If `pop()` is used without an index parameter, the last item in the List will be removed."
   ]
  },
  {
   "cell_type": "code",
   "execution_count": null,
   "metadata": {},
   "outputs": [],
   "source": [
    "# remove the last element from the list using pop()\n",
    "fruit.pop()\n",
    "print(fruit)"
   ]
  },
  {
   "cell_type": "markdown",
   "metadata": {},
   "source": [
    "#### `remove()`\n",
    "The `remove()` method can be used to remove the first occurance of a given element value from the List by supplying the value to be removed to the method."
   ]
  },
  {
   "cell_type": "code",
   "execution_count": null,
   "metadata": {},
   "outputs": [],
   "source": [
    "# remove a specified element from the list\n",
    "fruit=['Strawberry', 'Grape', 'Banana']\n",
    "fruit.remove('Strawberry')\n",
    "print(fruit)"
   ]
  },
  {
   "cell_type": "markdown",
   "metadata": {},
   "source": [
    "#### `clear()`\n",
    "The `clear()` method removes all items from the List."
   ]
  },
  {
   "cell_type": "code",
   "execution_count": null,
   "metadata": {},
   "outputs": [],
   "source": [
    "# remove all items from the list\n",
    "fruit=['Strawberry', 'Grape', 'Banana']\n",
    "fruit.clear()\n",
    "print(fruit)"
   ]
  },
  {
   "cell_type": "markdown",
   "metadata": {},
   "source": [
    "### <font color='red'><u>Worksheet Exercises</u></font>\n",
    "1. Create a list containing the following letters: `\"H\"`,`\"e\"`,`\"l\"`,`\"l\"`,`\"o\"`,`\" \"`,`\"W\"`,`\"o\"`,`\"r\"`,`\"l\"`,`\"d\"`,`\".\"`\n",
    "2. Write a program to change the final character in the list to a `\"!\"`\n",
    "3. Write a program to convert the list of characters into a string\n",
    "4. Write a program to remove duplicates from the list created in 1. above\n",
    "5. Write a program to convert the string `\"Programming for Data Science\"` into a list of characters\n",
    "6. Write a program to add the module code `UFCFVQ-15-M` (as a list of characters) to the beginning of the list created in 5. above"
   ]
  },
  {
   "cell_type": "code",
   "execution_count": null,
   "metadata": {},
   "outputs": [],
   "source": [
    "# 1.\n",
    "char_list = [\"H\",\"e\",\"l\",\"l\",\"o\",\" \",\"W\",\"o\",\"r\",\"l\",\"d\",\".\"]\n",
    "print(char_list)\n",
    "\n",
    "# 2.\n",
    "char_list[-1] = \"!\"\n",
    "print(char_list)\n",
    "\n",
    "# 3.\n",
    "str=\"\".join(char_list)\n",
    "print(str)\n",
    "\n",
    "# 4.\n",
    "dup_items = []\n",
    "uniq_items = []\n",
    "for c in char_list:\n",
    "    if c not in dup_items:\n",
    "        uniq_items.append(c)\n",
    "        dup_items.append(c)\n",
    "\n",
    "print(uniq_items)\n",
    "\n",
    "# 5.\n",
    "str=\"Programming for Data Science\"\n",
    "char_list=list(str)    \n",
    "print(char_list)\n",
    "\n",
    "# 6.\n",
    "str=\"UFCFVQ-15-M \"\n",
    "\n",
    "module_code_list=list(str)\n",
    "char_list = module_code_list + char_list\n",
    "print(char_list)"
   ]
  },
  {
   "cell_type": "markdown",
   "metadata": {},
   "source": [
    "## List Comprehensions\n",
    "A List comprehension is a concise way to create a new list from an existing list (or any other iterable object). The syntax of a List comprehension is `[<expression> for <item> in <list>]`. The `<expression>` will act on each `<item>` in the `<list>` one at a time. The result of applying the `<expression>` to each `<item>` is added to the new list that is being generated by the list comprehension. The same result can be achieved using an equivalent for loop. Below is an example of a list comprehension and its for loop equivalent."
   ]
  },
  {
   "cell_type": "code",
   "execution_count": null,
   "metadata": {},
   "outputs": [],
   "source": [
    "# List comprehension for capitalising a list of strings\n",
    "fruits=['Strawberry', 'Grape', 'Banana']\n",
    "\n",
    "fruit_lc = [fruit.upper() for fruit in fruits]\n",
    "print(fruit_lc)"
   ]
  },
  {
   "cell_type": "code",
   "execution_count": null,
   "metadata": {},
   "outputs": [],
   "source": [
    "# the equivalent for loop to capitalise a list of strings\n",
    "fruits=['Strawberry', 'Grape', 'Banana']\n",
    "\n",
    "fruit_fl = []\n",
    "for fruit in fruits:\n",
    "    fruit_fl.append(fruit.upper())\n",
    "print(fruit_fl)"
   ]
  },
  {
   "cell_type": "markdown",
   "metadata": {},
   "source": [
    "In fact, we can add a conditional expression to a List comprehension to filter the list we are comprehending. The syntax for a list comprehension with a conditional expression is `[<expression> for <item> in <list> <conditional expression>]`. "
   ]
  },
  {
   "cell_type": "code",
   "execution_count": null,
   "metadata": {},
   "outputs": [],
   "source": [
    "# List comprehension for filtering a list of strings\n",
    "fruits=['Strawberry', 'Grape', 'Banana']\n",
    "\n",
    "fruit_lc = [fruit for fruit in fruits if len(fruit) < 7] # \n",
    "print(fruit_lc)"
   ]
  },
  {
   "cell_type": "markdown",
   "metadata": {},
   "source": [
    "The `<expression>` itself can also include conditional behaviour. However, the syntax for the if statement is slightly different: `<value if true> if <condition> else <value if false>`. In list comprehensions, the first thing we need to specify must be a value and so if `<condition>` and `<value if true>` are reversed."
   ]
  },
  {
   "cell_type": "code",
   "execution_count": null,
   "metadata": {},
   "outputs": [],
   "source": [
    "# list comprehnsion with a conditional expression behaviour\n",
    "fruits=['Strawberry', 'Grape', 'Banana', 'Apple', 'Pineapple']\n",
    "\n",
    "# if the length of the string is greater than 6 characters replace the string with None\n",
    "short_fruit = [fruit if len(fruit)< 7 else None for fruit in fruits]\n",
    "print(short_fruit)"
   ]
  },
  {
   "cell_type": "markdown",
   "metadata": {},
   "source": [
    "### <font color='red'><u>Worksheet Exercises</u></font>\n",
    "1. Create a list of all the numbers between 0-20 using a comprehension\n",
    "2. Create a list of all the numbers between 23-41 using a comprehension\n",
    "3. Find all of the numbers between 1-100 that are divisible by 3\n",
    "4. Create a list of strings for all the numbers between 1-20 where the word 'even' is used for all even numbers and the word 'odd' for all odd numbers, e.g. `['odd','even','odd',....'even']`.\n",
    "5. Create a list that contains only the numbers in the following sentence 'In 1984 there were 13 instances of a protest with over 1000 people attending'."
   ]
  },
  {
   "cell_type": "code",
   "execution_count": null,
   "metadata": {},
   "outputs": [],
   "source": [
    "# 1.\n",
    "numbers=[x for x in range(21)]\n",
    "print(numbers)\n",
    "\n",
    "# 2.\n",
    "numbers=[x for x in range(23, 42)]\n",
    "print(numbers)\n",
    "\n",
    "# 3.\n",
    "numbers = [x for x in range(1,100) if x%3==0]\n",
    "print(numbers)\n",
    "\n",
    "# 4.\n",
    "numbers = ['even' if n%2 == 0 else 'odd' for n in range(1,21)]\n",
    "print(numbers)\n",
    "\n",
    "# 5.\n",
    "sentence = 'In 1984 there were 13 instances of a protest with over 1000 people attending'\n",
    "result = [c for c in sentence if (not c.isalpha() and c !='  ')]\n",
    "print(result)"
   ]
  },
  {
   "cell_type": "markdown",
   "metadata": {},
   "source": [
    "## Tuples\n",
    "Tuples are similar to Lists, in that you can store an ordered collection of object values in a single variable. Tuple items are ordered, unchangeable, and allow duplicate values. So, the key difference between tuples and lists is that tuples are immutable, i.e. they cannot change once initialised. Two good reasons to use a tuples over lists to store data are:\n",
    "1. Due to their immutable nature, tuples are faster to access than lists\n",
    "2. Tuples can lead to safer code by effectively 'write-protecting' data"
   ]
  },
  {
   "cell_type": "markdown",
   "metadata": {},
   "source": [
    "### Initialisation\n",
    "Tuples are initialised using the assignment operator `=` followed by a sequence of comma-separated data elements placed inside `()` brackets."
   ]
  },
  {
   "cell_type": "code",
   "execution_count": null,
   "metadata": {},
   "outputs": [],
   "source": [
    "# create a tuple of strings\n",
    "cars=('Ford','BMW','Volkswagen','Audi','Kia','Nissan')\n",
    "\n",
    "print(cars)"
   ]
  },
  {
   "cell_type": "markdown",
   "metadata": {},
   "source": [
    "In fact, the `()` brackets are optional when creating a new tuple. Python will automatically create one for you if you provide a comma-separated list of variables without the brackets. However, from the perspective of readability and clarity you should always include the `()` whenever you create a new tuple."
   ]
  },
  {
   "cell_type": "code",
   "execution_count": null,
   "metadata": {},
   "outputs": [],
   "source": [
    "# create a tuple of strings\n",
    "fruit=\"apple\", \"banana\", \"cherry\"\n",
    "\n",
    "print(fruit)"
   ]
  },
  {
   "cell_type": "markdown",
   "metadata": {},
   "source": [
    "### Changing elements is not possible\n",
    "As already mentioned above Tuples are immutable - this means we cannot change its elements once the tuple has been initialised.  The example below shows the error that occurs when you try to change an element."
   ]
  },
  {
   "cell_type": "code",
   "execution_count": null,
   "metadata": {},
   "outputs": [],
   "source": [
    "# try to change a tuple element\n",
    "cars[0] = 'Porsche'"
   ]
  },
  {
   "cell_type": "markdown",
   "metadata": {},
   "source": [
    "However, one workaround for this restriction is to convert the tuple to a list, remove the item and then convert the list back into a tuple."
   ]
  },
  {
   "cell_type": "code",
   "execution_count": null,
   "metadata": {},
   "outputs": [],
   "source": [
    "# remove an item from a tuple using list convertion\n",
    "fruits_tuple = (\"apple\", \"banana\", \"cherry\")\n",
    "\n",
    "fruits_list = list(fruits_tuple) # convert the tuple to a list\n",
    "fruits_list.remove(\"apple\") # remove an item\n",
    "fruits_tuple = tuple(fruits_list) # convert the list to a tuple\n",
    "print(thistuple)"
   ]
  },
  {
   "cell_type": "markdown",
   "metadata": {},
   "source": [
    "### Unpacking a tuple\n",
    "When a tuple is created, we assign values to it. This is called \"packing\" a tuple. Unpacking allows us to retreive the values stored in the tuple and assign them to variables. The variables to be assigned values are included in a comma-separated list inside `()` brackets followed by the `=` assignment operator and finally the tuple to unpack. Be careful to ensure the number of variable matches the number of elements in the tuple (i.e. in the example below there are 3 values in the tuple and 3 variables). Too few or too many will result in an error."
   ]
  },
  {
   "cell_type": "code",
   "execution_count": null,
   "metadata": {},
   "outputs": [],
   "source": [
    "# Unpacking a tuple element\n",
    "fruits = (\"apple\", \"banana\", \"cherry\")\n",
    "\n",
    "(green, yellow, red) = fruits # unpacking the tuple into three variables\n",
    "print(green)\n",
    "print(yellow)\n",
    "print(red)\n",
    "\n",
    "fruits[:-1]"
   ]
  },
  {
   "cell_type": "markdown",
   "metadata": {},
   "source": [
    "### Shared Functionality with Lists\n",
    "None of the List functionality related to adding, changing and removing elements is available to use with Tuples. However, we can still use access elements using the `[]` operator. Indexing works the same way as it does in Lists."
   ]
  },
  {
   "cell_type": "code",
   "execution_count": null,
   "metadata": {},
   "outputs": [],
   "source": [
    "# create a tuple of strings\n",
    "cars=('Ford','BMW','Volkswagen','Audi','Kia','Nissan')\n",
    "\n",
    "print(cars[0])"
   ]
  },
  {
   "cell_type": "markdown",
   "metadata": {},
   "source": [
    "You can also perform slices on tuples in exactly the same way you can with Lists, i.e. using the `seq[start:stop:step]` syntax."
   ]
  },
  {
   "cell_type": "code",
   "execution_count": null,
   "metadata": {},
   "outputs": [],
   "source": [
    "# perform a tuple slices\n",
    "print(cars[0:4]) # step assumed to be 1"
   ]
  },
  {
   "cell_type": "markdown",
   "metadata": {},
   "source": [
    "You can also iterate over the contents of a tuple in exactly the same way you can with Lists, i.e. using a `for` loop."
   ]
  },
  {
   "cell_type": "code",
   "execution_count": null,
   "metadata": {
    "scrolled": true
   },
   "outputs": [],
   "source": [
    "# iterate through a tuple\n",
    "for car in cars:\n",
    "    print(car)"
   ]
  },
  {
   "cell_type": "markdown",
   "metadata": {},
   "source": [
    "Finally, you can also use the `+` operator to concatenate two (or more) tuples."
   ]
  },
  {
   "cell_type": "code",
   "execution_count": null,
   "metadata": {
    "scrolled": true
   },
   "outputs": [],
   "source": [
    "# add two tuples together using the + operator\n",
    "sports_cars=('Lamborghini','Porsche','Ferrari')\n",
    "\n",
    "cars = cars + sports_cars\n",
    "print(cars)"
   ]
  },
  {
   "cell_type": "markdown",
   "metadata": {},
   "source": [
    "### `zip()` and `zip(*)`\n",
    "Python has a built-in function called `zip()` which can be used to aggregate one or more iterables into a collection of tuples. The resulting zip object can then be converted into a Tuple, List, Set or even a Dictionary object."
   ]
  },
  {
   "cell_type": "code",
   "execution_count": null,
   "metadata": {},
   "outputs": [],
   "source": [
    "# zip two lists together into a List of tuples\n",
    "number_list = [1, 2, 3]\n",
    "str_list = ['one', 'two', 'three']\n",
    "\n",
    "result = zip(number_list, str_list)\n",
    "zipped_list = list(result)\n",
    "print(zipped_list)"
   ]
  },
  {
   "cell_type": "markdown",
   "metadata": {},
   "source": [
    "To unzip the collection of tuples back into independent tuples, we use the same `zip()` function but we must precede the collection to be unzipped with the `*` operator."
   ]
  },
  {
   "cell_type": "code",
   "execution_count": null,
   "metadata": {},
   "outputs": [],
   "source": [
    "# unzip a list of tuples into two separate tuples\n",
    "k, v = zip(*zipped_list)\n",
    "print(k, v)"
   ]
  },
  {
   "cell_type": "markdown",
   "metadata": {},
   "source": [
    "### <font color='red'><u>Worksheet Exercises</u></font>\n",
    "1. Create a tuple called `primes` with the following values: 2,3,5,7,11,13,17,19,23,29,31,37,41,43,47\n",
    "2. Add the next 4 prime numbers to the tuple\n",
    "3. Print only those prime numbers in `prime` with a number 3 in them\n",
    "4. Unpack the following tuple into the variable `forename` and `surname`: `('Dave','Wyatt')`\n",
    "5. Given the following two lists of areas and telephone area codes, use the `zip()` function to create a tuple of area:area code pairs:\n",
    "| <div align=\"center\">area</div> | <div align=\"center\">Area Code</div> |\n",
    "|---|---|\n",
    "| <div align=\"center\">Leeds</div> | <div align=\"center\">0113</div> | \n",
    "| <div align=\"center\">Sheffield</div> | <div align=\"center\">0114</div> |\n",
    "| <div align=\"center\">Nottingham</div> | <div align=\"center\">0115</div> |\n",
    "| <div align=\"center\">Leicester</div> | <div align=\"center\">0116</div> |\n",
    "| <div align=\"center\">Bristol</div> | <div align=\"center\">0117</div> |\n",
    "| <div align=\"center\">Reading</div> | <div align=\"center\">0118</div> |"
   ]
  },
  {
   "cell_type": "code",
   "execution_count": null,
   "metadata": {},
   "outputs": [],
   "source": [
    "# 1.\n",
    "primes = (2,3,5,7,11,13,17,19,23,29,31,37,41,43,47)\n",
    "print(primes)\n",
    "\n",
    "# 2.\n",
    "more_primes = (53, 59, 61, 67)\n",
    "primes += more_primes\n",
    "print(primes)\n",
    "\n",
    "# 3.\n",
    "for x in primes:\n",
    "    if '3' in str(x):\n",
    "        print(x)\n",
    "\n",
    "# 4.\n",
    "forename, surname = ('Dave','Wyatt')\n",
    "print(forename, surname)\n",
    "        \n",
    "# 5.\n",
    "areas=[\"Leeds\",\"Sheffield\",\"Nottingham\",\"Leicester\",\"Bristol\",\"Reading\"]\n",
    "area_codes=[\"0113\",\"0114\",\"0115\",\"0116\",\"0117\",\"0118\"]\n",
    "\n",
    "area_codes_tuple = tuple(zip(areas,area_codes))\n",
    "print(area_codes_tuple)"
   ]
  },
  {
   "cell_type": "markdown",
   "metadata": {},
   "source": [
    "## Sets\n",
    "A Set is an unordered collection of items. Every set element is unique (no duplicates) and must be immutable (cannot be changed). However, a Set itself is mutable. We can add or remove items from it. A Set is also unindexed which means you cannot use the `[]` brackets to access elements or the slice operator to generate a subset. In addition, Sets can also be used to perform the mathematical set operations union, intersection, difference and symmetric difference."
   ]
  },
  {
   "cell_type": "markdown",
   "metadata": {},
   "source": [
    "### Initialisation\n",
    "Sets are initialised using the assignment operator `=` followed by a sequence of comma-separated data elements placed inside `{}` brackets. It can have any number of items and these may be of many different data types. However, a Set cannot store mutable elements like Lists, Sets or Dictionaries. Tuples are immutable and so they can be added to a Set."
   ]
  },
  {
   "cell_type": "code",
   "execution_count": null,
   "metadata": {},
   "outputs": [],
   "source": [
    "# An example code snippet that creates a set\n",
    "set_of_animals={'Dog','Cat','Bird','Whale','Human','Monkey','Rabbit'}\n",
    "\n",
    "print(set_of_animals)"
   ]
  },
  {
   "cell_type": "markdown",
   "metadata": {},
   "source": [
    "### Accessing Elements\n",
    "There are two ways that you can access the elements of a set. The first way is to loop through the contents of the set."
   ]
  },
  {
   "cell_type": "code",
   "execution_count": null,
   "metadata": {},
   "outputs": [],
   "source": [
    "# iterate through the set contents and print the value of each element\n",
    "for animal in set_of_animals:\n",
    "    print(animal)"
   ]
  },
  {
   "cell_type": "markdown",
   "metadata": {},
   "source": [
    "The second way is to check if a specified value exists in the Set. You cannot directly access elements in a Set using `[]` brackets."
   ]
  },
  {
   "cell_type": "code",
   "execution_count": null,
   "metadata": {},
   "outputs": [],
   "source": [
    "# check if a specified value exists in the set. True indicates it does.\n",
    "'Dog' in set_of_animals"
   ]
  },
  {
   "cell_type": "markdown",
   "metadata": {},
   "source": [
    "### Adding Elements\n",
    "Although a Set's elements are immutable (they cannot change), the Set itself is mutable and can change once it has been initialised. Sets are unindexed and so we don't have options to add elements at a specific index position or to the end of the Set. However, we can add a single item to the Set, an entire existing Set or data items from any iterable collection. In all cases, any value that already exists in the Set is not duplicated.\n",
    "\n",
    "#### `add()`\n",
    "The `add()` method is used to add a value to add to the Set. The required value is its only parameter."
   ]
  },
  {
   "cell_type": "code",
   "execution_count": null,
   "metadata": {},
   "outputs": [],
   "source": [
    "# add a new animal to the set\n",
    "set_of_animals.add('Tiger')\n",
    "print(set_of_animals)"
   ]
  },
  {
   "cell_type": "markdown",
   "metadata": {},
   "source": [
    "#### `update()`\n",
    "The `update()` method can be used to add multiple items to a set at the same time. The parameter can be any iterable data type such as a Set, List or Tuple."
   ]
  },
  {
   "cell_type": "code",
   "execution_count": null,
   "metadata": {},
   "outputs": [],
   "source": [
    "# add a list of animals into an existing Set of animals (with a single duplicate animal)\n",
    "list_of_animals=['Rabbit', 'Squirrel', 'Cow', 'Parrot']\n",
    "\n",
    "set_of_animals.update(list_of_animals)\n",
    "print(set_of_animals)"
   ]
  },
  {
   "cell_type": "markdown",
   "metadata": {},
   "source": [
    "### Removing Elements\n",
    "We can also remove elements from a Set. There are several options including removing a specified item from the Set, removing the last item in the Set and removing all items in a Set."
   ]
  },
  {
   "cell_type": "markdown",
   "metadata": {},
   "source": [
    "#### `remove()`/`discard()`\n",
    "Both methods can be used to remove a specified value from the Set. The `remove()` method will raise an error if the parameter value does not exist in the Set while `discard()` does not raise an error."
   ]
  },
  {
   "cell_type": "code",
   "execution_count": null,
   "metadata": {},
   "outputs": [],
   "source": [
    "# remove a specified element from the Set\n",
    "fruit={'Strawberry', 'Grape', 'Banana'}\n",
    "\n",
    "fruit.remove('Strawberry')\n",
    "print(fruit)"
   ]
  },
  {
   "cell_type": "markdown",
   "metadata": {},
   "source": [
    "If we try to remove an value from the set that does not exist using the `remove()` method, we receive a `KeyError` runtime error."
   ]
  },
  {
   "cell_type": "code",
   "execution_count": null,
   "metadata": {},
   "outputs": [],
   "source": [
    "fruit={'Strawberry', 'Grape', 'Banana'}\n",
    "\n",
    "fruit.remove('Apple')\n",
    "print(fruit)"
   ]
  },
  {
   "cell_type": "markdown",
   "metadata": {},
   "source": [
    "If we try to remove an value using the `discard()` method instead, we do not receive an error."
   ]
  },
  {
   "cell_type": "code",
   "execution_count": null,
   "metadata": {},
   "outputs": [],
   "source": [
    "fruit={'Strawberry', 'Grape', 'Banana'}\n",
    "\n",
    "fruit.discard('Apple')\n",
    "print(fruit)"
   ]
  },
  {
   "cell_type": "markdown",
   "metadata": {},
   "source": [
    "#### `pop()`\n",
    "The `pop()` method can be used to remove the last element in the Set. However, caution should be taken when using this method because sets are unordered and so you will have no way to determine which item will be popped - it will be completely arbitrary."
   ]
  },
  {
   "cell_type": "code",
   "execution_count": null,
   "metadata": {},
   "outputs": [],
   "source": [
    "# remove an element from a set using pop()\n",
    "fruit={'Strawberry', 'Grape', 'Banana'}\n",
    "fruit.pop()\n",
    "print(fruit)"
   ]
  },
  {
   "cell_type": "markdown",
   "metadata": {},
   "source": [
    "#### `clear()`\n",
    "The `clear()` method removes all items from the Set."
   ]
  },
  {
   "cell_type": "code",
   "execution_count": null,
   "metadata": {},
   "outputs": [],
   "source": [
    "# remove all items from the set\n",
    "fruit={'Strawberry', 'Grape', 'Banana'}\n",
    "fruit.clear()\n",
    "print(fruit)"
   ]
  },
  {
   "cell_type": "markdown",
   "metadata": {},
   "source": [
    "### Set-Based Operations\n",
    "Sets can be used to carry out mathematical set operations like union, intersection, difference and symmetric difference."
   ]
  },
  {
   "cell_type": "markdown",
   "metadata": {},
   "source": [
    "#### Union\n",
    "Assuming we have two sets of values A and B, the union of A and B is a set of all elements from both sets. The figure below illustrates this.\n",
    "\n",
    "![set-union.jpg](img/set-union.jpg)\n",
    "\n",
    "To perform the union of two Sets, we can either use the `union()` method or the `|` operator."
   ]
  },
  {
   "cell_type": "code",
   "execution_count": null,
   "metadata": {},
   "outputs": [],
   "source": [
    "# using the union() method\n",
    "A = {1, 2, 3, 4, 5}\n",
    "B = {4, 5, 6, 7, 8}\n",
    "\n",
    "C = A.union(B)\n",
    "print(C)"
   ]
  },
  {
   "cell_type": "code",
   "execution_count": null,
   "metadata": {},
   "outputs": [],
   "source": [
    "# using the | operator\n",
    "A = {1, 2, 3, 4, 5}\n",
    "B = {4, 5, 6, 7, 8}\n",
    "\n",
    "C = A | B\n",
    "print(C)"
   ]
  },
  {
   "cell_type": "markdown",
   "metadata": {},
   "source": [
    "#### Intersection\n",
    "Assuming we have two sets of values A and B, the intersection of A and B is a set of elements that are common to both sets. The figure below illustrates this.\n",
    "\n",
    "![set-intersection.jpg](img/set-intersection.jpg)\n",
    "\n",
    "To perform the intersection of two Sets, we can either use the `intersection()` method or the `&` operator."
   ]
  },
  {
   "cell_type": "code",
   "execution_count": null,
   "metadata": {},
   "outputs": [],
   "source": [
    "# using the intersection() method\n",
    "A = {1, 2, 3, 4, 5}\n",
    "B = {4, 5, 6, 7, 8}\n",
    "\n",
    "C = A.intersection(B)\n",
    "print(C)"
   ]
  },
  {
   "cell_type": "code",
   "execution_count": null,
   "metadata": {},
   "outputs": [],
   "source": [
    "# using the & operator\n",
    "A = {1, 2, 3, 4, 5}\n",
    "B = {4, 5, 6, 7, 8}\n",
    "\n",
    "C = A & B\n",
    "print(C)"
   ]
  },
  {
   "cell_type": "markdown",
   "metadata": {},
   "source": [
    "#### Difference\n",
    "Assuming we have two sets of values A and B, the difference of B from A is the set of elements that are only in A but not in B. The figure below illustrates this.\n",
    "\n",
    "![set-difference.jpg](img/set-difference.jpg)\n",
    "\n",
    "To perform the difference of two Sets, we can either use the `difference()` method or the `-` operator."
   ]
  },
  {
   "cell_type": "code",
   "execution_count": null,
   "metadata": {},
   "outputs": [],
   "source": [
    "# using the difference() method\n",
    "A = {1, 2, 3, 4, 5}\n",
    "B = {4, 5, 6, 7, 8}\n",
    "\n",
    "C = A.difference(B)\n",
    "print(C)"
   ]
  },
  {
   "cell_type": "code",
   "execution_count": null,
   "metadata": {},
   "outputs": [],
   "source": [
    "# using the - operator\n",
    "A = {1, 2, 3, 4, 5}\n",
    "B = {4, 5, 6, 7, 8}\n",
    "\n",
    "C = A - B\n",
    "print(C)"
   ]
  },
  {
   "cell_type": "markdown",
   "metadata": {},
   "source": [
    "##### Symmetric Difference\n",
    "Assuming we have two sets of values A and B, the symmetric difference is the set of elements that are in A and in B but not in both (i.e. it excludes the intersection). The figure below illustrates this.\n",
    "\n",
    "![set-symmetric-difference.jpg](img/set-symmetric-difference.jpg)\n",
    "\n",
    "To perform the symmetric difference of two Sets, we can either use the `symmetric-difference()` method or the `^` operator."
   ]
  },
  {
   "cell_type": "code",
   "execution_count": null,
   "metadata": {},
   "outputs": [],
   "source": [
    "# using the symmetric difference() method\n",
    "A = {1, 2, 3, 4, 5}\n",
    "B = {4, 5, 6, 7, 8}\n",
    "\n",
    "C = A.symmetric_difference(B)\n",
    "print(C)"
   ]
  },
  {
   "cell_type": "code",
   "execution_count": null,
   "metadata": {},
   "outputs": [],
   "source": [
    "# using the ^ operator\n",
    "A = {1, 2, 3, 4, 5}\n",
    "B = {4, 5, 6, 7, 8}\n",
    "\n",
    "C = A ^ B\n",
    "print(C)"
   ]
  },
  {
   "cell_type": "markdown",
   "metadata": {},
   "source": [
    "### <font color='red'><u>Worksheet Exercises</u></font>\n",
    "1. Create a set of vowels in the English language\n",
    "2. Given a string, print all the vowels contained within the string\n",
    "3. Extend your previous answer to print only a single instance of any vowel contained within the string\n",
    "4. Convert the two strings `'Python is cool'` and `'Programming can be fun'` into two different sets (using the `set()` function) before attempting the following:<br/>\n",
    "&nbsp;&nbsp;&nbsp;&nbsp;a. What characters do these strings have in common?<br/>\n",
    "&nbsp;&nbsp;&nbsp;&nbsp;b. How many unique characters are there in both strings?<br/>\n",
    "&nbsp;&nbsp;&nbsp;&nbsp;c. Which characters are in the first string but not in the second string?<br/>\n",
    "&nbsp;&nbsp;&nbsp;&nbsp;d. Which vowels are in the second string but not in the first string?"
   ]
  },
  {
   "cell_type": "code",
   "execution_count": null,
   "metadata": {},
   "outputs": [],
   "source": [
    "# 1.\n",
    "vowels = {'a','e','i','o','u'}\n",
    "\n",
    "# 2.\n",
    "str=\"Hello World!\"\n",
    "for c in str:\n",
    "    if c in vowels:\n",
    "        print(c)\n",
    "        \n",
    "# 3.\n",
    "str=\"Hello World!\"\n",
    "unique_vowels=set()\n",
    "for c in str:\n",
    "    if c in vowels:\n",
    "        unique_vowels.add(c)\n",
    "print(unique_vowels)\n",
    "\n",
    "# 4.\n",
    "set1=set('Python is cool')\n",
    "set2=set('Programming can be fun')\n",
    "\n",
    "# 4a.\n",
    "print(set1 & set2)\n",
    "\n",
    "# 4b.\n",
    "print(len(set1 | set2))\n",
    "\n",
    "# 4c.\n",
    "print(set1 - set2)\n",
    "\n",
    "# 4d.\n",
    "print((set2 - set1) & vowels)"
   ]
  },
  {
   "cell_type": "markdown",
   "metadata": {},
   "source": [
    "## Dictionaries\n",
    "Dictionaries are used to store `<key>:<value>` pairs. This means that a Python dictionary is made up of multiple elements each of which has a `<key>` and corresponding `<value>`. Think of it like an English dictionary in which each word acts as key and the correspnding defintion acts as its value. Unlike Lists and Tuples, which are indexed by a range of numbers, dictionaries are indexed by keys. Dictionaries are optimized to retrieve values when the key is known. Python dictionaries are changeable, ordered (Python 3.7 onwards), and do not permit duplicate keys."
   ]
  },
  {
   "cell_type": "markdown",
   "metadata": {},
   "source": [
    "### Initialisation\n",
    "Dictionaries can be initialised using the assignment operator `=` followed by a sequence of comma-separated key:value data elements placed inside `{}` brackets. While a value can be of any data type and can repeat, keys must be of immutable type (such as a string, number or tuple with immutable elements) and must be unique."
   ]
  },
  {
   "cell_type": "code",
   "execution_count": null,
   "metadata": {},
   "outputs": [],
   "source": [
    "# An example code snippet that creates a dictionary\n",
    "car_brand_model = {\n",
    "  \"brand\": \"Ford\",\n",
    "  \"model\": \"Mustang\",\n",
    "  \"year\": 1964\n",
    "}\n",
    "\n",
    "print(car_brand_model)"
   ]
  },
  {
   "cell_type": "markdown",
   "metadata": {},
   "source": [
    "### Accessing Elements\n",
    "There are several ways that you can access the contents of a Python dictionary."
   ]
  },
  {
   "cell_type": "markdown",
   "metadata": {},
   "source": [
    "#### `[]` brackets\n",
    "Using this approach, we need to place the key whose value we are looking for inside the `[]` brackets. This is similar to the indexing we use in Lists except the index we use here can be of any immutable type rather than being restricted to integers beginning at 0."
   ]
  },
  {
   "cell_type": "code",
   "execution_count": null,
   "metadata": {},
   "outputs": [],
   "source": [
    "# access the brand value using [] brackets\n",
    "print(car_brand_model[\"brand\"])"
   ]
  },
  {
   "cell_type": "markdown",
   "metadata": {},
   "source": [
    "#### `get()`\n",
    "The `get()` method performs the same function as the `[]` brackets approach above. The key whose value we are looking for is supplied as a parameter to the method."
   ]
  },
  {
   "cell_type": "code",
   "execution_count": null,
   "metadata": {},
   "outputs": [],
   "source": [
    "# access the brand value using the get() method\n",
    "print(car_brand_model.get(\"brand\"))"
   ]
  },
  {
   "cell_type": "markdown",
   "metadata": {},
   "source": [
    "#### Iterate using for loop\n",
    "Another way to access the elements is using a for loop to iterate through the dictionary contents. In fact, there are a couple of options we have here. Firstly, we can access all the keys using the `keys()` method."
   ]
  },
  {
   "cell_type": "code",
   "execution_count": null,
   "metadata": {},
   "outputs": [],
   "source": [
    "# access the dictionary's keys using the keys() method\n",
    "for key in car_brand_model.keys():\n",
    "    print(key)"
   ]
  },
  {
   "cell_type": "markdown",
   "metadata": {},
   "source": [
    "Next, we can access all the values using the `values()` method."
   ]
  },
  {
   "cell_type": "code",
   "execution_count": null,
   "metadata": {},
   "outputs": [],
   "source": [
    "# access the dictionary's values using the values() method\n",
    "for value in car_brand_model.values():\n",
    "    print(value)"
   ]
  },
  {
   "cell_type": "markdown",
   "metadata": {},
   "source": [
    "Finally, we can access all key:value pairs using the `items()` method. Note that the `items()` method returns a tuple which we need to unpack to access the key and value."
   ]
  },
  {
   "cell_type": "code",
   "execution_count": null,
   "metadata": {},
   "outputs": [],
   "source": [
    "# access the dictionary's key:value pairs using the items() method\n",
    "for key, value in car_brand_model.items():\n",
    "    print(key,\":\",value)"
   ]
  },
  {
   "cell_type": "markdown",
   "metadata": {},
   "source": [
    "### Adding/Changing Values\n",
    "Python dictionaries use the same approaches for adding/changing key value pairs. The key difference between their action is that if the key already exists then the value is changed otherwise the new key:value pair is added. There are three options for adding/changing key:value pairs: `[]` brackets, the `update()` method and the `fromkeys()` method."
   ]
  },
  {
   "cell_type": "markdown",
   "metadata": {},
   "source": [
    "#### `[]` brackets\n",
    "Using this approach, we need to place the key whose value we are looking for inside the `[]` brackets and use the assignment operator `=` followed by the new value to change a key's associated value, as follows: <dictionary>[<key>]=<value>"
   ]
  },
  {
   "cell_type": "code",
   "execution_count": null,
   "metadata": {},
   "outputs": [],
   "source": [
    "# change a key's value using [] brackets\n",
    "car_brand_model[\"year\"] = 1965\n",
    "\n",
    "print(car_brand_model)"
   ]
  },
  {
   "cell_type": "code",
   "execution_count": null,
   "metadata": {},
   "outputs": [],
   "source": [
    "# adding a new key value pair using [] brackets\n",
    "car_brand_model['colour']='Red'\n",
    "\n",
    "print(car_brand_model)"
   ]
  },
  {
   "cell_type": "markdown",
   "metadata": {},
   "source": [
    "#### `update()`\n",
    "The `update()` method has two possible uses. Firstly, it allows us to add multiple key:value pairs from another dictionary (or any iterable object that has tuples of length 2) at the same time."
   ]
  },
  {
   "cell_type": "code",
   "execution_count": null,
   "metadata": {},
   "outputs": [],
   "source": [
    "# adding the contents of an existing dictionary using the update() method\n",
    "car_price_details = {\n",
    "  \"price\": 24950,\n",
    "  \"transmission\": \"manual\"\n",
    "}\n",
    "\n",
    "car_brand_model.update(car_price_details)\n",
    "print(car_brand_model)"
   ]
  },
  {
   "cell_type": "markdown",
   "metadata": {},
   "source": [
    "Secondly, `update()` can be used to change multiple key:value pairs at the same time. To do this you need to add the key:value pairs as parameters. This method assumes the key is a string datatype."
   ]
  },
  {
   "cell_type": "code",
   "execution_count": null,
   "metadata": {},
   "outputs": [],
   "source": [
    "# update multiple key:value pairs using the update() method\n",
    "car_brand_model.update(price=25950, colour=\"Blue\")\n",
    "\n",
    "print(car_brand_model)"
   ]
  },
  {
   "cell_type": "markdown",
   "metadata": {},
   "source": [
    "#### `fromkeys()`\n",
    "The `fromkeys()` method can be used to add a multiple keys at the same time. This method needs to be executed using the `dict` keyword as it is a method of the Dictionary class itself. The methods has two parameters. The first parameter can be any iterable object (such as a List). The second parameter is represents the value to be associated with all keys in the first parameter and is optional. If it is not used then the value `None` is used instead."
   ]
  },
  {
   "cell_type": "code",
   "execution_count": null,
   "metadata": {},
   "outputs": [],
   "source": [
    "# create a dictionary from a list using the fromkeys() method\n",
    "list_of_names = [\"Dave\", \"Supriti\", \"Liam\", \"Elijah\", \"Olivia\", \"Sophia\", \"Imani\", \"Kwame\"]\n",
    "\n",
    "names_dict = dict.fromkeys(list_of_names)\n",
    "print(names_dict)"
   ]
  },
  {
   "cell_type": "markdown",
   "metadata": {},
   "source": [
    "If we do provide a value for the second parameter then this value will be used as the initial value for each key added."
   ]
  },
  {
   "cell_type": "code",
   "execution_count": null,
   "metadata": {},
   "outputs": [],
   "source": [
    "# create a dictionary from a list using the fromkeys() method with a value\n",
    "list_of_male_names = [\"Dave\", \"Liam\", \"Elijah\", \"Kwame\"]\n",
    "list_of_female_names = [\"Supriti\", \"Olivia\", \"Sophia\", \"Imani\"]\n",
    "\n",
    "names_dict = dict.fromkeys(list_of_male_names, \"Male\")\n",
    "names_dict.update(dict.fromkeys(list_of_female_names, \"Female\"))\n",
    "print(names_dict)"
   ]
  },
  {
   "cell_type": "markdown",
   "metadata": {},
   "source": [
    "### Removing Elements\n",
    "To remove a given key:value pair from the Dictionary, you should use the `pop()` method. We can also clear the entire Dictionary using the `clear()` method."
   ]
  },
  {
   "cell_type": "markdown",
   "metadata": {},
   "source": [
    "#### `pop()`\n",
    "The `pop()` method can be used to remove a specified key:value pair from the Dictionary. This method requires only the key to remove the pair from the Dictionary"
   ]
  },
  {
   "cell_type": "code",
   "execution_count": null,
   "metadata": {},
   "outputs": [],
   "source": [
    "# remove an element from a dictionary using pop()\n",
    "car_brand_model.pop('year')\n",
    "\n",
    "print(car_brand_model)"
   ]
  },
  {
   "cell_type": "markdown",
   "metadata": {},
   "source": [
    "#### `clear()`\n",
    "The `clear()` method removes all pairs from the Dictionary."
   ]
  },
  {
   "cell_type": "code",
   "execution_count": null,
   "metadata": {},
   "outputs": [],
   "source": [
    "# remove all items from the dictionary\n",
    "car_brand_model.clear()\n",
    "\n",
    "print(car_brand_model)"
   ]
  },
  {
   "cell_type": "markdown",
   "metadata": {},
   "source": [
    "### <font color='red'><u>Worksheet Exercises</u></font>\n",
    "1. Create a dictionary containing two keys,`vowels` and `consonants`, with the following sets as values `{'a','e','i','o','u'}` and `{'b','c','d','f','g','h','j','k','l','m','n','p','q','r','s','t','v','w','x','y','z'}`\n",
    "2. Print out all of the vowels\n",
    "3. Add a new key:value pair that contains the symbols: `!\"%^&*_-+@:;# .,`\n",
    "4. Create a second dictionary called `digits` which contains a single key:value pair (a set of digits 0 to 9). Now, combine this new dictionary with your first dictionary\n",
    "5. Using combined dictionary, identify all of the characters classes (vowel, consonant, digit or symbol) in the following string `The best song recorded in the 1980s was \"Broken Wings by Mr. Mister\"!`"
   ]
  },
  {
   "cell_type": "code",
   "execution_count": null,
   "metadata": {},
   "outputs": [],
   "source": [
    "# 1.\n",
    "letter_dict={\n",
    "    'vowels':{'a','e','i','o','u'},\n",
    "    'consonants':{'b','c','d','f','g','h','j','k','l','m','n','p','q','r','s','t','v','w','x','y','z'}\n",
    "}\n",
    "print(letter_dict)\n",
    "\n",
    "# 2.\n",
    "for vowel in letter_dict['vowels']:\n",
    "    print(vowel)\n",
    "    \n",
    "# 3.\n",
    "letter_dict['symbols'] = {'!','\"','%','^','&','*','_','-','+','@',':',';','#',' ','.',','}\n",
    "print(letter_dict)\n",
    "\n",
    "# 4.\n",
    "digits_dict={\n",
    "    'digits':{'0','1','2','3','4','5','6','7','8','9'}\n",
    "}\n",
    "letter_dict.update(digits_dict)\n",
    "print(letter_dict)\n",
    "\n",
    "# 5.\n",
    "str='The best song recorded in the 1980s was \"Broken Wings by Mr. Mister\"!'\n",
    "for c in str:\n",
    "    if c.lower() in letter_dict['vowels']:\n",
    "        print(c+\" is a vowel\")\n",
    "    elif c.lower() in letter_dict['consonants']:\n",
    "        print(c+\" is a consonant\")\n",
    "    elif c.lower() in letter_dict['digits']:\n",
    "        print(c+\" is a digit\")\n",
    "    elif c.lower() in letter_dict['symbols']:\n",
    "        print(c+\" is a symbol\")\n",
    "    else: \n",
    "        print(c+\" is a unknown\")"
   ]
  }
 ],
 "metadata": {
  "kernelspec": {
   "display_name": "Python 3",
   "language": "python",
   "name": "python3"
  },
  "language_info": {
   "codemirror_mode": {
    "name": "ipython",
    "version": 3
   },
   "file_extension": ".py",
   "mimetype": "text/x-python",
   "name": "python",
   "nbconvert_exporter": "python",
   "pygments_lexer": "ipython3",
   "version": "3.8.5"
  }
 },
 "nbformat": 4,
 "nbformat_minor": 2
}
