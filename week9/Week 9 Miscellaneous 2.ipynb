{
 "cells": [
  {
   "cell_type": "markdown",
   "metadata": {},
   "source": [
    "# UFCFVQ-15-M Programming for Data Science\n",
    "# Week 10 Jupyter Notebook \n",
    "# Miscellaneous\n",
    "\n",
    "\n",
    "## Goals\n",
    "This notebook has been created to familiarise you with other aspects of Python that we have not covered elsewhere in the module. Most of the code needed to progress through this Notebook has been provided for you. However, there are several coding tasks that you will need to complete yourself by entering code yourself.\n",
    "\n",
    "The topics in this notebook include:\n",
    "* Exception Handling\n",
    "* Brief Introduction to Python Classes and Objects"
   ]
  },
  {
   "cell_type": "markdown",
   "metadata": {},
   "source": [
    "# Exception Handling"
   ]
  },
  {
   "cell_type": "markdown",
   "metadata": {},
   "source": [
    "No matter your skill as a programmer, you will eventually make a coding mistake. Such mistakes come in three basic flavors:\n",
    "\n",
    "* *Syntax errors*: Errors where the code is not valid Python (generally easy to fix)\n",
    "* *Runtime errors*: Errors where syntactically valid code fails to execute, perhaps due to invalid user input (sometimes easy to fix)\n",
    "* *Semantic/Logic errors*: Errors in logic: code executes without a problem, but the result is not what you expect (often very difficult to track-down and fix)\n",
    "\n",
    "Here we're going to focus on how to deal cleanly with Python *runtime errors* via its exception handling framework. Exception handling makes your code more robust and helps prevent potential failures that would cause your program to stop in an uncontrolled manner. Imagine if you have written a code which is deployed in production and still, it terminates due to an exception, your client would not appreciate that, so it's better to handle the particular exception beforehand and avoid the chaos.\n",
    "\n",
    "Below are two example runtime errors which cause execution of the script to fail:"
   ]
  },
  {
   "cell_type": "code",
   "execution_count": 1,
   "metadata": {},
   "outputs": [
    {
     "ename": "TypeError",
     "evalue": "unsupported operand type(s) for +: 'int' and 'str'",
     "output_type": "error",
     "traceback": [
      "\u001b[0;31m---------------------------------------------------------------------------\u001b[0m",
      "\u001b[0;31mTypeError\u001b[0m                                 Traceback (most recent call last)",
      "\u001b[0;32m<ipython-input-1-5482dc6a49a1>\u001b[0m in \u001b[0;36m<module>\u001b[0;34m\u001b[0m\n\u001b[1;32m      1\u001b[0m \u001b[0ma\u001b[0m \u001b[0;34m=\u001b[0m \u001b[0;36m2\u001b[0m\u001b[0;34m\u001b[0m\u001b[0;34m\u001b[0m\u001b[0m\n\u001b[1;32m      2\u001b[0m \u001b[0mb\u001b[0m \u001b[0;34m=\u001b[0m \u001b[0;34m'three'\u001b[0m\u001b[0;34m\u001b[0m\u001b[0;34m\u001b[0m\u001b[0m\n\u001b[0;32m----> 3\u001b[0;31m \u001b[0ma\u001b[0m \u001b[0;34m+\u001b[0m \u001b[0mb\u001b[0m\u001b[0;34m\u001b[0m\u001b[0;34m\u001b[0m\u001b[0m\n\u001b[0m",
      "\u001b[0;31mTypeError\u001b[0m: unsupported operand type(s) for +: 'int' and 'str'"
     ]
    }
   ],
   "source": [
    "a = 2\n",
    "b = 'three'\n",
    "a + b"
   ]
  },
  {
   "cell_type": "code",
   "execution_count": 2,
   "metadata": {},
   "outputs": [
    {
     "ename": "ZeroDivisionError",
     "evalue": "division by zero",
     "output_type": "error",
     "traceback": [
      "\u001b[0;31m---------------------------------------------------------------------------\u001b[0m",
      "\u001b[0;31mZeroDivisionError\u001b[0m                         Traceback (most recent call last)",
      "\u001b[0;32m<ipython-input-2-e9e866a10e2a>\u001b[0m in \u001b[0;36m<module>\u001b[0;34m\u001b[0m\n\u001b[0;32m----> 1\u001b[0;31m \u001b[0;36m100\u001b[0m \u001b[0;34m/\u001b[0m \u001b[0;36m0\u001b[0m\u001b[0;34m\u001b[0m\u001b[0;34m\u001b[0m\u001b[0m\n\u001b[0m",
      "\u001b[0;31mZeroDivisionError\u001b[0m: division by zero"
     ]
    }
   ],
   "source": [
    "100 / 0"
   ]
  },
  {
   "cell_type": "markdown",
   "metadata": {},
   "source": [
    "There are dozens of built-in Python exceptions. The type is printed as part of the error message when an exception occurs. The types in the above two examples are ZeroDivisionError and TypeError. The remaining part of the error line provides the details of what caused the error based on the type of exception. The following link provides a complete list of errors: https://docs.python.org/3/library/exceptions.html."
   ]
  },
  {
   "cell_type": "markdown",
   "metadata": {},
   "source": [
    "## Catching Exceptions: `try` and `except`\n",
    "The main tool Python gives you for handling runtime exceptions is the `try...except` clause. The `try` clause lets you test a set of statements for runtime errors. The except clause handles the runtime error. The following example illustrates the basic exception handling formulation:"
   ]
  },
  {
   "cell_type": "code",
   "execution_count": 5,
   "metadata": {},
   "outputs": [
    {
     "name": "stdout",
     "output_type": "stream",
     "text": [
      "something bad happened!\n"
     ]
    }
   ],
   "source": [
    "try:\n",
    "    x = 1 / \"0\" # ZeroDivisionError\n",
    "except:\n",
    "    print(\"something bad happened!\")"
   ]
  },
  {
   "cell_type": "markdown",
   "metadata": {},
   "source": [
    "However, it is possible to specify which exception to \"catch\"  and process by specifying the name of exception in the except statement. The term \"catch\" is commonly used in exception handling to describe an error this is explicitly processed. In the following example, the error has changed to a `TypeError`. "
   ]
  },
  {
   "cell_type": "code",
   "execution_count": 7,
   "metadata": {},
   "outputs": [
    {
     "ename": "TypeError",
     "evalue": "unsupported operand type(s) for /: 'int' and 'str'",
     "output_type": "error",
     "traceback": [
      "\u001b[0;31m---------------------------------------------------------------------------\u001b[0m",
      "\u001b[0;31mTypeError\u001b[0m                                 Traceback (most recent call last)",
      "\u001b[0;32m<ipython-input-7-a4ecd7116fa3>\u001b[0m in \u001b[0;36m<module>\u001b[0;34m\u001b[0m\n\u001b[1;32m      1\u001b[0m \u001b[0;32mtry\u001b[0m\u001b[0;34m:\u001b[0m\u001b[0;34m\u001b[0m\u001b[0;34m\u001b[0m\u001b[0m\n\u001b[0;32m----> 2\u001b[0;31m     \u001b[0mx\u001b[0m \u001b[0;34m=\u001b[0m \u001b[0;36m1\u001b[0m \u001b[0;34m/\u001b[0m \u001b[0;34m\"0\"\u001b[0m \u001b[0;31m# TypeError\u001b[0m\u001b[0;34m\u001b[0m\u001b[0;34m\u001b[0m\u001b[0m\n\u001b[0m\u001b[1;32m      3\u001b[0m \u001b[0;32mexcept\u001b[0m \u001b[0mZeroDivisionError\u001b[0m\u001b[0;34m:\u001b[0m\u001b[0;34m\u001b[0m\u001b[0;34m\u001b[0m\u001b[0m\n\u001b[1;32m      4\u001b[0m     \u001b[0mprint\u001b[0m\u001b[0;34m(\u001b[0m\u001b[0;34m\"something bad happened!\"\u001b[0m\u001b[0;34m)\u001b[0m\u001b[0;34m\u001b[0m\u001b[0;34m\u001b[0m\u001b[0m\n",
      "\u001b[0;31mTypeError\u001b[0m: unsupported operand type(s) for /: 'int' and 'str'"
     ]
    }
   ],
   "source": [
    "try:\n",
    "    x = 1 / \"0\" # TypeError\n",
    "except ZeroDivisionError:\n",
    "    print(\"something bad happened!\")"
   ]
  },
  {
   "cell_type": "markdown",
   "metadata": {},
   "source": [
    "The exception clause does not explicitly catch the `TypeError` exception and so simply ignores it. In fact, we can list types of exception that can be caught. The following example adds the `TypeError` exception to the list of exceptions it can deal with:"
   ]
  },
  {
   "cell_type": "code",
   "execution_count": 22,
   "metadata": {},
   "outputs": [
    {
     "name": "stdout",
     "output_type": "stream",
     "text": [
      "An exception of type TypeError occurred\n",
      "SHE AINT YOUR TYPE\n"
     ]
    }
   ],
   "source": [
    "try:\n",
    "    x = 1 / \"0\" # TypeError\n",
    "except Exception as ex:\n",
    "    print(\"An exception of type {0} occurred\".format(type(ex).__name__))\n",
    "    if str(type(ex).__name__) == \"TypeError\":\n",
    "        print(\"SHE AINT YOUR TYPE\")\n",
    "    if str(type(ex).__name__) == \"ZeroDivisionError\":\n",
    "        print(\"DO SOMETHING FOR THAT ZEROish\")\n",
    "    \n",
    "    "
   ]
  },
  {
   "cell_type": "markdown",
   "metadata": {},
   "source": [
    "Finally, we may need to provide different functionality for each type of exception. In such cases, we can add multiple exception clauses. It is common when doing this to add a final `except` clause to catch all other types of runtime error. In this example, a `NameError` exception is generated and caught by the final exception clause."
   ]
  },
  {
   "cell_type": "code",
   "execution_count": 23,
   "metadata": {},
   "outputs": [
    {
     "name": "stdout",
     "output_type": "stream",
     "text": [
      "something bad happened!\n"
     ]
    }
   ],
   "source": [
    "try:\n",
    "    x = y / 0 # NameError\n",
    "except ZeroDivisionError:\n",
    "    print(\"You tried to divide by zero\")\n",
    "except TypeError:\n",
    "    print(\"You have used an incorrect type\")\n",
    "except:\n",
    "    print(\"something bad happened!\")\n"
   ]
  },
  {
   "cell_type": "markdown",
   "metadata": {},
   "source": [
    "## The `else` keyword\n",
    "When using exception handling we may wish to execute block of code if no runtime errors were raised by the `try` clause. To do this we use the `else` keyword. The ordering of the clauses is important. The `else` clause should come after all `except` clauses. The following example illustrates this:"
   ]
  },
  {
   "cell_type": "code",
   "execution_count": 24,
   "metadata": {},
   "outputs": [
    {
     "name": "stdout",
     "output_type": "stream",
     "text": [
      "Hello World!\n",
      "Nothing went wrong\n"
     ]
    }
   ],
   "source": [
    "try:\n",
    "    print(\"Hello World!\")\n",
    "except:\n",
    "    print(\"Something went wrong\")\n",
    "else:\n",
    "    print(\"Nothing went wrong\")"
   ]
  },
  {
   "cell_type": "markdown",
   "metadata": {},
   "source": [
    "## The `finally` keyword\n",
    "This keyword is used to specify code that should be executed after the exception code has been processed. While on the surface this looks identical to the `else` keyword above, there is a key difference between them. The `else` code is only executed of there is no runtime error while the `finally` code is executed regardless of whether there is an error or not. Again, the ordering of the clauses is important: `try`..`except`..`else`..`finally`."
   ]
  },
  {
   "cell_type": "code",
   "execution_count": 28,
   "metadata": {},
   "outputs": [
    {
     "name": "stdout",
     "output_type": "stream",
     "text": [
      "An exception of type NameError occurred\n",
      "Executed after the try...except has finished\n"
     ]
    }
   ],
   "source": [
    "try:\n",
    "    print(x) # NameError\n",
    "except Exception as ex:\n",
    "    print(\"An exception of type {0} occurred\".format(type(ex).__name__))\n",
    "    if str(type(ex).__name__) == \"TypeError\":\n",
    "        print(\"SHE AINT YOUR TYPE\")\n",
    "    if str(type(ex).__name__) == \"ZeroDivisionError\":\n",
    "        print(\"DO SOMETHING FOR THAT ZEROish\")\n",
    "finally:\n",
    "    print(\"Executed after the try...except has finished\")"
   ]
  },
  {
   "cell_type": "markdown",
   "metadata": {},
   "source": [
    "## Raising an exception using `raise`\n",
    "As we have already seen Python will generate exceptions automatically when a given runtime error has occurred. Sometimes we may wish to make use of exceptions programmatically. By this we mean recognising an issue using program logic (such as an `if` statement) and forcing an exception to occur. This can be useful when developing your own custom exceptions (see later section for more information on custom exceptions) or during the the development process to help identify bugs. To do this we use the `raise` keyword. This `raise` keyword is followed by the exception we wish to raise. The example below illustrates this:"
   ]
  },
  {
   "cell_type": "code",
   "execution_count": null,
   "metadata": {},
   "outputs": [],
   "source": [
    "N = 100\n",
    "if N > 50:\n",
    "    raise RuntimeError(\"Input Value too large!\")"
   ]
  },
  {
   "cell_type": "markdown",
   "metadata": {},
   "source": [
    "It is possible to use the `raise` keyword without any exception included. In this situation, we are re-raising a previous exception. It is common to do this in an `except` clause. This causes the exception to be passed back to the calling function. If that function has its own try..except code blocks the exception can be dealt with again. This can be useful to help track down issues within your Python code where information can be added to the console output at each step of the algorithm. The following example illustrates this:"
   ]
  },
  {
   "cell_type": "code",
   "execution_count": 29,
   "metadata": {},
   "outputs": [
    {
     "name": "stdout",
     "output_type": "stream",
     "text": [
      "doSomething(): Input Value too large!\n",
      "Error occurred in doSomething()\n"
     ]
    }
   ],
   "source": [
    "def doSomething(N):\n",
    "    try:\n",
    "        if N > 50:\n",
    "            raise RuntimeError\n",
    "    except:\n",
    "        print(\"doSomething(): Input Value too large!\")\n",
    "        raise # re-raise the RuntimeError exception\n",
    "\n",
    "N = 100\n",
    "try:\n",
    "    doSomething(N)\n",
    "except:\n",
    "    print(\"Error occurred in doSomething()\")"
   ]
  },
  {
   "cell_type": "markdown",
   "metadata": {},
   "source": [
    "## Defining Custom Exceptions\n",
    "Programs may name their own exceptions by creating a new exception class. Exceptions should typically be derived from the base class `Exception`, either directly or indirectly. Exception classes can be defined which do anything any other class can do, but are usually kept simple. This definition of a custom exception uses class inheritance. In other words, your new custom exception is defined a special kind of existing exception. The following example illustartes how to create and use a custom exception called `MySpecialError` which is derived from the Base class `Exception`:"
   ]
  },
  {
   "cell_type": "code",
   "execution_count": null,
   "metadata": {},
   "outputs": [],
   "source": [
    "# simple custom exception class which inherits from Exception\n",
    "class MySpecialError(Exception): \n",
    "    pass # no operation command required for this empty class\n",
    "\n",
    "raise MySpecialError(\"An error message!\") # raise the custom exception to test"
   ]
  },
  {
   "cell_type": "markdown",
   "metadata": {},
   "source": [
    "### <font color='red'><u>Worksheet Exercises</u></font>\n",
    "1. Add appropriate exception handling to the following code snippet:\n",
    "```\n",
    "    f = open('insurance.csv')\n",
    "    s = f.readline()\n",
    "```\n",
    "2. Add an appropriate clause to your solution to 1. above to output a message when the code executes without exception. Adjust your code to open the file `data\\insurance.csv`.\n",
    "3. Add an appropriate clause to close the file once the code has finished.\n",
    "4. Create a custom exception called `ParameterError`.\n",
    "5. Create a new `addNumbers()` function to add two numbers together and return the result. Use your new `ParameterError` exception to cause an error if either parameter is not a number (i.e. int or float).\n",
    "6. Using appropriate exception handling, use your new `addNumbers()` function to add the following two values: `2` and `three`."
   ]
  },
  {
   "cell_type": "code",
   "execution_count": null,
   "metadata": {},
   "outputs": [],
   "source": [
    "# add your exercise solutions here"
   ]
  },
  {
   "cell_type": "markdown",
   "metadata": {},
   "source": [
    "# Brief Introduction to Python Classes and Objects\n",
    "The following section is **NOT** designed to provide you with a definitive in depth introduction to classes and objects. However, since you have been using classes and object throughout this module without perhaps realising this, we believe that it would be useful to give you some insights into how classes and objects work behind the scenes and on how you can use them to help develop more complex systems.\n",
    "\n",
    "## What are classes and objects?\n",
    "A class is a way of combining information and behavior, i.e. data and functions. It is a blueprint from which many objects can be created (or instantiated). Every object will have its own unique set of information and all objects of a given class share the same behaviour.\n",
    "\n",
    "Let's consider what you'd need to do if you were creating a rocket ship in a game, or in a physics simulation. One of the first things you'd want to track are the y coordinates of the rocket. Here is what a simple rocket ship class looks like in code:"
   ]
  },
  {
   "cell_type": "code",
   "execution_count": null,
   "metadata": {},
   "outputs": [],
   "source": [
    "class Rocket():\n",
    "    # Rocket simulates a rocket ship for a game,\n",
    "    #  or a physics simulation.\n",
    "    \n",
    "    def __init__(self):\n",
    "        # Each rocket has an y position.\n",
    "        self.y = 0"
   ]
  },
  {
   "cell_type": "markdown",
   "metadata": {},
   "source": [
    "The first line shows how a class is created in Python. The keyword `class` tells Python that you are about to define a class. The rules for naming a class are the same rules as for other variables, but there is a strong convention among Python programmers that classes should be named using CamelCase. The name of the class is followed by a set of parentheses. These parentheses will be empty for now, but later they may contain a class upon which the new class is based.\n",
    "\n",
    "Function names that start and end with two underscores are special built-in functions that Python uses in certain ways. The `__init()__` method is one of these special functions. It is called automatically when you create an object from your class. The `__init()__` method lets you ensure that all relevant attributes are set to their proper values when an object is created from the class, before the object is used. In this case, The `__init__()` method initializes the `y` values of the `Rocket` to `0`.\n",
    "\n",
    "The `self` keyword often takes people a little while to understand. The word \"self\" refers to the current object that you are working with. When you are writing a class, it lets you refer to certain attributes from any other part of the class. Basically, all methods in a class need the `self` object as their first argument, so they can access any attribute that is part of the class.\n",
    "\n",
    "The `Rocket` class stores two pieces of information so far, but it can't do anything. The first behavior to define is a core behavior of a rocket: moving up. Here is what that might look like in code:"
   ]
  },
  {
   "cell_type": "code",
   "execution_count": null,
   "metadata": {},
   "outputs": [],
   "source": [
    "class Rocket():\n",
    "    # Rocket simulates a rocket ship for a game,\n",
    "    #  or a physics simulation.\n",
    "    \n",
    "    def __init__(self):\n",
    "        # Each rocket has an y-position.\n",
    "        self.y = 0\n",
    "        \n",
    "    def move_up(self):\n",
    "        # Increment the y-position of the rocket.\n",
    "        self.y += 1"
   ]
  },
  {
   "cell_type": "markdown",
   "metadata": {},
   "source": [
    "In the Object-Orientated Programming world a class function is called a method. Methods can do anything you learned about with ordinary functions such as accepting arguments and returning values. Each method has to accept at least one argument by default, the value `self`. This is a reference to the particular object that is calling the method and gives the method access to the calling object's attributes such as a `Rocket` object's `y`-value. That value is increased by 1, every time the method `move_up()` is called by a particular `Rocket` object.\n",
    "\n",
    "The `Rocket` class can now store some information, and it can do something. But we have not actually created a rocket yet. Here is how you make a rocket object:"
   ]
  },
  {
   "cell_type": "code",
   "execution_count": null,
   "metadata": {},
   "outputs": [],
   "source": [
    "# Create a Rocket object.\n",
    "my_rocket = Rocket()\n",
    "print(my_rocket)"
   ]
  },
  {
   "cell_type": "markdown",
   "metadata": {},
   "source": [
    "To actually use a class, you create a variable (such as `my_rocket`) and set that equal to the name of the class with an empty set of parentheses. Python creates an **object** from the class. The new object is a single instance of the `Rocket` class; it has a copy of each of the class's data items, and it can perform any function that is defined for the class. The following code is used to show how to access the object's data and how to call one of its functions. "
   ]
  },
  {
   "cell_type": "code",
   "execution_count": null,
   "metadata": {},
   "outputs": [],
   "source": [
    "# output the current value of the variable y\n",
    "print(\"Rocket altitude:\", my_rocket.y)\n",
    "\n",
    "# call the move_up() function and output the value of y\n",
    "my_rocket.move_up()\n",
    "print(\"Rocket altitude:\", my_rocket.y)"
   ]
  },
  {
   "cell_type": "markdown",
   "metadata": {},
   "source": [
    "To access an object's variables or methods, you give the name of the object and then use `.` dot notation to access the variables and methods. You have already used the `.` dot notation many times during this module. So to get the y-value of `my_rocket`, you use `my_rocket.y`. To use the `move_up()` method on `my_rocket`, you write `my_rocket.move_up()`.\n",
    "\n",
    "Once you have a class defined, you can create as many objects from that class as you want. Each object is its own instance of that class, with its own separate variables. All of the objects are capable of the same behavior, but each object's particular actions do not affect any of the other objects. Here is how you might make a simple fleet of rockets:"
   ]
  },
  {
   "cell_type": "code",
   "execution_count": null,
   "metadata": {},
   "outputs": [],
   "source": [
    "my_rockets = []\n",
    "for x in range(0,5):\n",
    "    new_rocket = Rocket()\n",
    "    my_rockets.append(new_rocket)"
   ]
  },
  {
   "cell_type": "markdown",
   "metadata": {},
   "source": [
    "You can prove that each rocket has its own y values by moving just one of the rockets:"
   ]
  },
  {
   "cell_type": "code",
   "execution_count": null,
   "metadata": {},
   "outputs": [],
   "source": [
    "# Move the first rocket up.\n",
    "my_rockets[0].move_up()\n",
    "\n",
    "# Show that only the first rocket has moved.\n",
    "for rocket in my_rockets:\n",
    "    print(\"Rocket altitude:\", rocket.y)"
   ]
  },
  {
   "cell_type": "markdown",
   "metadata": {},
   "source": [
    "## Accepting parameters\n",
    "Any method included in a class definition can accept parameters (including the `__init__()` method). To do this we simply add a variable name for each parameter after the `self` value in a comma-separated list. The following example redefines the `Rocket()` class to include an initial `y` value for each new rocket that is created and a `distance` value to be used when moving the rocket up. NOTE: we have also provided default values for all three parameters."
   ]
  },
  {
   "cell_type": "code",
   "execution_count": null,
   "metadata": {},
   "outputs": [],
   "source": [
    "class Rocket():\n",
    "    # Rocket simulates a rocket ship for a game,\n",
    "    #  or a physics simulation.\n",
    "    \n",
    "    def __init__(self, y=0):\n",
    "        # Each rocket has an y-position.\n",
    "        self.y = y\n",
    "        \n",
    "    def move_up(self, distance=1):\n",
    "        # Increment the y-position of the rocket.\n",
    "        self.y += distance"
   ]
  },
  {
   "cell_type": "markdown",
   "metadata": {},
   "source": [
    "Now let's try out the new class to see how we can create different kinds of object with the same class. Firstly, a rocket that uses the default values:"
   ]
  },
  {
   "cell_type": "code",
   "execution_count": null,
   "metadata": {},
   "outputs": [],
   "source": [
    "default_rocket = Rocket()\n",
    "print(\"Rocket altitude:\", default_rocket.y)\n",
    "\n",
    "default_rocket.move_up()\n",
    "print(\"Rocket altitude:\", default_rocket.y)"
   ]
  },
  {
   "cell_type": "markdown",
   "metadata": {},
   "source": [
    "Secondly, create a rocket that begins in at a different height:"
   ]
  },
  {
   "cell_type": "code",
   "execution_count": null,
   "metadata": {},
   "outputs": [],
   "source": [
    "non_default_rocket = Rocket(-1)\n",
    "print(\"Rocket altitude:\", non_default_rocket.y)"
   ]
  },
  {
   "cell_type": "markdown",
   "metadata": {},
   "source": [
    "Finally, move the new rocket up by 5 units (instead of the default 1 unit):"
   ]
  },
  {
   "cell_type": "code",
   "execution_count": null,
   "metadata": {},
   "outputs": [],
   "source": [
    "non_default_rocket.move_up(5)\n",
    "print(\"Rocket altitude:\", non_default_rocket.y)"
   ]
  },
  {
   "cell_type": "markdown",
   "metadata": {},
   "source": [
    "## Python Modules\n",
    "Python allows you to save your new classes into another file and then import them into the program you are working on. That file is called a **module**. You can have any number of classes in a single module. This has the added advantage of isolating your classes into files that can be used in any number of different programs. As you use your classes repeatedly, the classes become more reliable and complete overall. You have already used this many times in the module thus far: `import numpy` or `import pandas`. Each of these import statements gives you access to all the classes and attributes defined in these modules.\n",
    "\n",
    "Imports should always be placed at the top of the file. Modules should have short lowercase names while class names should use CamelCase. This convention helps to distinguish between modules and classes. There are a number of ways we can import from a module we are interested in:\n",
    "\n",
    "### `import <module_name>`\n",
    "This first approach imports all classes and attributes in a given namespace. However once the whole module has been imported, we need to use the namespace specifier to access the class or attribute we wish to use."
   ]
  },
  {
   "cell_type": "code",
   "execution_count": null,
   "metadata": {},
   "outputs": [],
   "source": [
    "import math\n",
    "math.pi"
   ]
  },
  {
   "cell_type": "markdown",
   "metadata": {},
   "source": [
    "To help simplify the code, we can use a local name (or alias) for the imported module using the formulation `import <module_name> as <local_name>`. Again, we have already used this many times (e.g. `import pandas as pd`."
   ]
  },
  {
   "cell_type": "code",
   "execution_count": null,
   "metadata": {},
   "outputs": [],
   "source": [
    "import math as m\n",
    "m.pi"
   ]
  },
  {
   "cell_type": "markdown",
   "metadata": {},
   "source": [
    "### `from <module_name> import <class_name>`\n",
    "The second approach is used quite commonly and allows you to use the imported class names directly in your program without the need for the namespace specifier. This helps you to produce clean and readable code. However, care needs to be taken as names of the classes you are importing may conflict with names that have already been used in the program you are working on. The following example show how `pi` can be used without the `m.` or `math.` namespace specifier."
   ]
  },
  {
   "cell_type": "code",
   "execution_count": null,
   "metadata": {},
   "outputs": [],
   "source": [
    "from math import pi\n",
    "pi"
   ]
  },
  {
   "cell_type": "markdown",
   "metadata": {},
   "source": [
    "## Inheritance\n",
    "One of the most important goals of the object-oriented approach to programming is the creation of stable, reliable, reusable code. If you had to create a new class for every kind of object you wanted to model, you would hardly have any reusable code. In Python and any other language that supports OOP, one class can **inherit** from another class. This means you can base a new class on an existing class; the new class *inherits* all of the attributes and behavior of the class it is based on. A new class can override any undesirable attributes or behavior of the class it inherits from, and it can add any new attributes or behavior that are appropriate. The original class is called the **parent** class, and the new class is a **child** of the parent class.\n",
    "\n",
    "Let's make use of our existing `Rocket` class to define a more specific kind of rocket - a space shuttle. We could write an entirely new class for the space shuttle. But a shuttle is just a special kind of rocket. Instead of writing an entirely new class, we can inherit all of the attributes and behavior of a Rocket, and then add a few appropriate attributes and behavior for a shuttle.\n",
    "\n",
    "One of the most significant characteristics of a space shuttle is that it can be reused. So the only difference we will add at this point is to record the number of flights the shutttle has completed. Everything else you need to know about a shuttle has already been coded into the Rocket class.\n",
    "\n",
    "Here is what the Shuttle class looks like:"
   ]
  },
  {
   "cell_type": "code",
   "execution_count": null,
   "metadata": {},
   "outputs": [],
   "source": [
    "class Shuttle(Rocket):\n",
    "    # Shuttle simulates a space shuttle, which is really\n",
    "    #  just a reusable rocket.\n",
    "    \n",
    "    def __init__(self, y=0, flights_completed=0):\n",
    "        Rocket.__init__(self, y) # call parent's __init()__ method\n",
    "        self.flights_completed = flights_completed"
   ]
  },
  {
   "cell_type": "markdown",
   "metadata": {},
   "source": [
    "When a new class is based on an existing class, we need to write the name of the parent class in parentheses when defining the new class, e.g. `Rocket` is the parent class of `Shuttle`. Next, the `__init()__` method of the new class needs to call its parent's `__init()__` method to set up the inherited data values correctly.\n",
    "\n",
    "Now, let's create a new Shuttle object with default values and call its inherited `move_up()` method:"
   ]
  },
  {
   "cell_type": "code",
   "execution_count": null,
   "metadata": {},
   "outputs": [],
   "source": [
    "my_shuttle = Shuttle()\n",
    "my_shuttle.move_up();\n",
    "\n",
    "print(\"Shuttle altitude:\", my_shuttle.y)\n",
    "print(\"Flights completed:\", my_shuttle.flights_completed)"
   ]
  },
  {
   "cell_type": "markdown",
   "metadata": {},
   "source": [
    "Inheritance is a powerful feature of object-oriented programming. Using just what we have seen so far about classes, we can model an incredible variety of real-world and virtual phenomena with a high degree of accuracy. Any code we write has the potential to be stable and reusable in a variety of applications."
   ]
  },
  {
   "cell_type": "markdown",
   "metadata": {},
   "source": [
    "### <font color='red'><u>Worksheet Exercises</u></font>\n",
    "You will need to use the `datetime` module to complete all of the following exercise.\n",
    "\n",
    "1. Create a `Person` class which includes the following data :\n",
    "    * Name: assumed to be a string\n",
    "    * Birthdate : should be a `datetime` object\n",
    "    * Email: assumed to be a string\n",
    "    \n",
    "NOTE: your class should provide a way to set the initial values of these data items when creating a new `Person` object\n",
    "\n",
    "2. Demonstrate that you can create a `Person` object using your own name, birthdate and email.\n",
    "3. Add a function to your class to print your age and demonstrate that the function gives your correct age.\n",
    "4. Create another class called `Student` which inherits from the `Person` class that you have just created. The new class should add the date item `degreeProgramme`.\n",
    "5. Demonstrate that you can create a `Student` object using your own information."
   ]
  },
  {
   "cell_type": "code",
   "execution_count": null,
   "metadata": {},
   "outputs": [],
   "source": [
    "# add your exercise solutions here"
   ]
  }
 ],
 "metadata": {
  "kernelspec": {
   "display_name": "Python 3",
   "language": "python",
   "name": "python3"
  },
  "language_info": {
   "codemirror_mode": {
    "name": "ipython",
    "version": 3
   },
   "file_extension": ".py",
   "mimetype": "text/x-python",
   "name": "python",
   "nbconvert_exporter": "python",
   "pygments_lexer": "ipython3",
   "version": "3.8.5"
  }
 },
 "nbformat": 4,
 "nbformat_minor": 2
}
